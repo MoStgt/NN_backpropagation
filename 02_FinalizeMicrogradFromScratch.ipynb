{
 "cells": [
  {
   "cell_type": "code",
   "execution_count": 2,
   "metadata": {},
   "outputs": [],
   "source": [
    "import math\n",
    "import numpy as np\n",
    "import matplotlib.pyplot as plt\n",
    "%matplotlib inline"
   ]
  },
  {
   "cell_type": "code",
   "execution_count": 24,
   "metadata": {},
   "outputs": [],
   "source": [
    "#define Value class\n",
    "\n",
    "class Value:\n",
    "    def __init__(self, data, _children=(),_op='', label=''):\n",
    "        self.data = data\n",
    "        self.grad=0.0\n",
    "        self._backward=lambda:None\n",
    "        self._prev = set(_children)\n",
    "        self._op = _op\n",
    "        self.label = label\n",
    "        \n",
    "    def __repr__(self):\n",
    "        return f\"Value(data={self.data})\"\n",
    "    \n",
    "    def __add__(self, other):\n",
    "        other = other if isinstance(other, Value) else Value(other)\n",
    "        out = Value(self.data + other.data, (self, other), '+')\n",
    "        \n",
    "        def _backward():\n",
    "            self.grad+=1.0 * out.grad\n",
    "            other.grad+=1.0 * out.grad\n",
    "        out._backward = _backward\n",
    "        return out\n",
    "    \n",
    "    def __mul__(self, other):\n",
    "        other = other if isinstance(other, Value) else Value(other)\n",
    "        out = Value(self.data * other.data, (self, other),'*')\n",
    "        \n",
    "        def _backward():\n",
    "            self.grad +=other.data*out.grad\n",
    "            other.grad+=self.data*out.grad\n",
    "        \n",
    "        out._backward=_backward\n",
    "        return out\n",
    "    \n",
    "    def __pow__(self, other):\n",
    "        assert isinstance(other, (int, float)), \"only supporting int/float powers for now\"\n",
    "        out = Value(self.data**other, (self,), f'**{other}')\n",
    "\n",
    "        def _backward():\n",
    "            self.grad += other * (self.data ** (other - 1)) * out.grad\n",
    "        out._backward = _backward\n",
    "\n",
    "        return out\n",
    "    def __rmul__(self, other): # other * self\n",
    "        return self * other\n",
    "    \n",
    "    def __truediv__(self, other): # self / other\n",
    "        return self * other**-1\n",
    "    \n",
    "    def __neg__(self): # -self\n",
    "        return self * -1\n",
    "\n",
    "    def __sub__(self, other): # self - other\n",
    "        return self + (-other)\n",
    "    \n",
    "    def tanh(self):\n",
    "        x = self.data\n",
    "        t = (math.exp(2*x) - 1)/(math.exp(2*x) + 1)\n",
    "        out = Value(t, (self, ), 'tanh')\n",
    "        \n",
    "        def _backward():\n",
    "            self.grad += (1-t**2) * out.grad\n",
    "        out._backward=_backward\n",
    "        return out\n",
    "    \n",
    "    def exp(self):\n",
    "        x = self.data\n",
    "        out = Value(math.exp(x), (self, ), 'exp')\n",
    "        def _backward():\n",
    "            self.grad += out.data * out.grad # NOTE: in the video I incorrectly used = instead of +=. Fixed here.\n",
    "        out._backward = _backward\n",
    "        return out\n",
    "    \n",
    "    def backward(self):\n",
    "    \n",
    "        topo = []\n",
    "        visited = set()\n",
    "        def build_topo(v):\n",
    "            if v not in visited:\n",
    "                visited.add(v)\n",
    "                for child in v._prev:\n",
    "                    build_topo(child)\n",
    "                topo.append(v)\n",
    "        build_topo(self)\n",
    "        \n",
    "        self.grad = 1.0\n",
    "        #go through topological graph in reverse order, from right to left\n",
    "        for node in reversed(topo):\n",
    "            node._backward()"
   ]
  },
  {
   "cell_type": "code",
   "execution_count": 25,
   "metadata": {},
   "outputs": [
    {
     "data": {
      "text/plain": [
       "Value(data=-2.0)"
      ]
     },
     "execution_count": 25,
     "metadata": {},
     "output_type": "execute_result"
    }
   ],
   "source": [
    "a = Value(2.0)\n",
    "b = Value(4.0)\n",
    "a-b"
   ]
  },
  {
   "cell_type": "code",
   "execution_count": 4,
   "metadata": {},
   "outputs": [],
   "source": [
    "#visualization\n",
    "from graphviz import Digraph\n",
    "\n",
    "def trace(root):\n",
    "  # builds a set of all nodes and edges in a graph\n",
    "  nodes, edges = set(), set()\n",
    "  def build(v):\n",
    "    if v not in nodes:\n",
    "      nodes.add(v)\n",
    "      for child in v._prev:\n",
    "        edges.add((child, v))\n",
    "        build(child)\n",
    "  build(root)\n",
    "  return nodes, edges\n",
    "\n",
    "def draw_dot(root):\n",
    "  dot = Digraph(format='svg', graph_attr={'rankdir': 'LR'}) # LR = left to right\n",
    "  \n",
    "  nodes, edges = trace(root)\n",
    "  for n in nodes:\n",
    "    uid = str(id(n))\n",
    "    # for any value in the graph, create a rectangular ('record') node for it\n",
    "    dot.node(name = uid, label = \"{ %s | data %.4f | grad %.4f }\" % (n.label, n.data, n.grad), shape='record')\n",
    "    if n._op:\n",
    "      # if this value is a result of some operation, create an op node for it\n",
    "      dot.node(name = uid + n._op, label = n._op)\n",
    "      # and connect this node to it\n",
    "      dot.edge(uid + n._op, uid)\n",
    "\n",
    "  for n1, n2 in edges:\n",
    "    # connect n1 to the op node of n2\n",
    "    dot.edge(str(id(n1)), str(id(n2)) + n2._op)\n",
    "\n",
    "  return dot"
   ]
  },
  {
   "cell_type": "code",
   "execution_count": 26,
   "metadata": {},
   "outputs": [],
   "source": [
    "\n",
    "# inputs x1,x2\n",
    "x1 = Value(2.0, label='x1')\n",
    "x2 = Value(0.0, label='x2')\n",
    "# weights w1,w2\n",
    "w1 = Value(-3.0, label='w1')\n",
    "w2 = Value(1.0, label='w2')\n",
    "# bias of the neuron\n",
    "b = Value(6.8813735870195432, label='b')\n",
    "# x1*w1 + x2*w2 + b\n",
    "x1w1 = x1*w1; x1w1.label = 'x1*w1'\n",
    "x2w2 = x2*w2; x2w2.label = 'x2*w2'\n",
    "x1w1x2w2 = x1w1 + x2w2; x1w1x2w2.label = 'x1*w1 + x2*w2'\n",
    "n = x1w1x2w2 + b; n.label = 'n'\n",
    "o = n.tanh(); o.label = 'o'\n",
    "o.backward()"
   ]
  },
  {
   "cell_type": "code",
   "execution_count": 27,
   "metadata": {},
   "outputs": [
    {
     "data": {
      "image/svg+xml": "<?xml version=\"1.0\" encoding=\"UTF-8\" standalone=\"no\"?>\n<!DOCTYPE svg PUBLIC \"-//W3C//DTD SVG 1.1//EN\"\n \"http://www.w3.org/Graphics/SVG/1.1/DTD/svg11.dtd\">\n<!-- Generated by graphviz version 7.0.0 (20221023.0053)\n -->\n<!-- Pages: 1 -->\n<svg width=\"1575pt\" height=\"210pt\"\n viewBox=\"0.00 0.00 1575.00 210.00\" xmlns=\"http://www.w3.org/2000/svg\" xmlns:xlink=\"http://www.w3.org/1999/xlink\">\n<g id=\"graph0\" class=\"graph\" transform=\"scale(1 1) rotate(0) translate(4 206)\">\n<polygon fill=\"white\" stroke=\"none\" points=\"-4,4 -4,-206 1571,-206 1571,4 -4,4\"/>\n<!-- 140477943253024 -->\n<g id=\"node1\" class=\"node\">\n<title>140477943253024</title>\n<polygon fill=\"none\" stroke=\"black\" points=\"1071,-54.5 1071,-90.5 1256,-90.5 1256,-54.5 1071,-54.5\"/>\n<text text-anchor=\"middle\" x=\"1082.5\" y=\"-68.8\" font-family=\"Times,serif\" font-size=\"14.00\">n</text>\n<polyline fill=\"none\" stroke=\"black\" points=\"1094,-54.5 1094,-90.5\"/>\n<text text-anchor=\"middle\" x=\"1134\" y=\"-68.8\" font-family=\"Times,serif\" font-size=\"14.00\">data 0.8814</text>\n<polyline fill=\"none\" stroke=\"black\" points=\"1174,-54.5 1174,-90.5\"/>\n<text text-anchor=\"middle\" x=\"1215\" y=\"-68.8\" font-family=\"Times,serif\" font-size=\"14.00\">grad 0.5000</text>\n</g>\n<!-- 140477650760656tanh -->\n<g id=\"node14\" class=\"node\">\n<title>140477650760656tanh</title>\n<ellipse fill=\"none\" stroke=\"black\" cx=\"1319\" cy=\"-72.5\" rx=\"27\" ry=\"18\"/>\n<text text-anchor=\"middle\" x=\"1319\" y=\"-68.8\" font-family=\"Times,serif\" font-size=\"14.00\">tanh</text>\n</g>\n<!-- 140477943253024&#45;&gt;140477650760656tanh -->\n<g id=\"edge6\" class=\"edge\">\n<title>140477943253024&#45;&gt;140477650760656tanh</title>\n<path fill=\"none\" stroke=\"black\" d=\"M1255.57,-72.5C1264.21,-72.5 1272.6,-72.5 1280.28,-72.5\"/>\n<polygon fill=\"black\" stroke=\"black\" points=\"1280.19,-76 1290.19,-72.5 1280.19,-69 1280.19,-76\"/>\n</g>\n<!-- 140477943253024+ -->\n<g id=\"node2\" class=\"node\">\n<title>140477943253024+</title>\n<ellipse fill=\"none\" stroke=\"black\" cx=\"1008\" cy=\"-72.5\" rx=\"27\" ry=\"18\"/>\n<text text-anchor=\"middle\" x=\"1008\" y=\"-68.8\" font-family=\"Times,serif\" font-size=\"14.00\">+</text>\n</g>\n<!-- 140477943253024+&#45;&gt;140477943253024 -->\n<g id=\"edge1\" class=\"edge\">\n<title>140477943253024+&#45;&gt;140477943253024</title>\n<path fill=\"none\" stroke=\"black\" d=\"M1035.39,-72.5C1042.62,-72.5 1050.92,-72.5 1059.74,-72.5\"/>\n<polygon fill=\"black\" stroke=\"black\" points=\"1059.64,-76 1069.64,-72.5 1059.64,-69 1059.64,-76\"/>\n</g>\n<!-- 140477650810768 -->\n<g id=\"node3\" class=\"node\">\n<title>140477650810768</title>\n<polygon fill=\"none\" stroke=\"black\" points=\"2.5,-55.5 2.5,-91.5 197.5,-91.5 197.5,-55.5 2.5,-55.5\"/>\n<text text-anchor=\"middle\" x=\"19\" y=\"-69.8\" font-family=\"Times,serif\" font-size=\"14.00\">w2</text>\n<polyline fill=\"none\" stroke=\"black\" points=\"35.5,-55.5 35.5,-91.5\"/>\n<text text-anchor=\"middle\" x=\"75.5\" y=\"-69.8\" font-family=\"Times,serif\" font-size=\"14.00\">data 1.0000</text>\n<polyline fill=\"none\" stroke=\"black\" points=\"115.5,-55.5 115.5,-91.5\"/>\n<text text-anchor=\"middle\" x=\"156.5\" y=\"-69.8\" font-family=\"Times,serif\" font-size=\"14.00\">grad 0.0000</text>\n</g>\n<!-- 140477943253456* -->\n<g id=\"node9\" class=\"node\">\n<title>140477943253456*</title>\n<ellipse fill=\"none\" stroke=\"black\" cx=\"263\" cy=\"-73.5\" rx=\"27\" ry=\"18\"/>\n<text text-anchor=\"middle\" x=\"263\" y=\"-69.8\" font-family=\"Times,serif\" font-size=\"14.00\">*</text>\n</g>\n<!-- 140477650810768&#45;&gt;140477943253456* -->\n<g id=\"edge9\" class=\"edge\">\n<title>140477650810768&#45;&gt;140477943253456*</title>\n<path fill=\"none\" stroke=\"black\" d=\"M197.44,-73.5C206.89,-73.5 216.04,-73.5 224.32,-73.5\"/>\n<polygon fill=\"black\" stroke=\"black\" points=\"224.28,-77 234.28,-73.5 224.28,-70 224.28,-77\"/>\n</g>\n<!-- 140477943253168 -->\n<g id=\"node4\" class=\"node\">\n<title>140477943253168</title>\n<polygon fill=\"none\" stroke=\"black\" points=\"672,-82.5 672,-118.5 945,-118.5 945,-82.5 672,-82.5\"/>\n<text text-anchor=\"middle\" x=\"725\" y=\"-96.8\" font-family=\"Times,serif\" font-size=\"14.00\">x1*w1 + x2*w2</text>\n<polyline fill=\"none\" stroke=\"black\" points=\"778,-82.5 778,-118.5\"/>\n<text text-anchor=\"middle\" x=\"820.5\" y=\"-96.8\" font-family=\"Times,serif\" font-size=\"14.00\">data &#45;6.0000</text>\n<polyline fill=\"none\" stroke=\"black\" points=\"863,-82.5 863,-118.5\"/>\n<text text-anchor=\"middle\" x=\"904\" y=\"-96.8\" font-family=\"Times,serif\" font-size=\"14.00\">grad 0.5000</text>\n</g>\n<!-- 140477943253168&#45;&gt;140477943253024+ -->\n<g id=\"edge13\" class=\"edge\">\n<title>140477943253168&#45;&gt;140477943253024+</title>\n<path fill=\"none\" stroke=\"black\" d=\"M936.26,-82.53C948.46,-80.8 960.04,-79.16 970.16,-77.72\"/>\n<polygon fill=\"black\" stroke=\"black\" points=\"970.42,-81.22 979.83,-76.35 969.44,-74.29 970.42,-81.22\"/>\n</g>\n<!-- 140477943253168+ -->\n<g id=\"node5\" class=\"node\">\n<title>140477943253168+</title>\n<ellipse fill=\"none\" stroke=\"black\" cx=\"609\" cy=\"-100.5\" rx=\"27\" ry=\"18\"/>\n<text text-anchor=\"middle\" x=\"609\" y=\"-96.8\" font-family=\"Times,serif\" font-size=\"14.00\">+</text>\n</g>\n<!-- 140477943253168+&#45;&gt;140477943253168 -->\n<g id=\"edge2\" class=\"edge\">\n<title>140477943253168+&#45;&gt;140477943253168</title>\n<path fill=\"none\" stroke=\"black\" d=\"M636.23,-100.5C643.46,-100.5 651.86,-100.5 660.97,-100.5\"/>\n<polygon fill=\"black\" stroke=\"black\" points=\"660.89,-104 670.89,-100.5 660.89,-97 660.89,-104\"/>\n</g>\n<!-- 140477650812736 -->\n<g id=\"node6\" class=\"node\">\n<title>140477650812736</title>\n<polygon fill=\"none\" stroke=\"black\" points=\"326,-110.5 326,-146.5 546,-146.5 546,-110.5 326,-110.5\"/>\n<text text-anchor=\"middle\" x=\"352.5\" y=\"-124.8\" font-family=\"Times,serif\" font-size=\"14.00\">x1*w1</text>\n<polyline fill=\"none\" stroke=\"black\" points=\"379,-110.5 379,-146.5\"/>\n<text text-anchor=\"middle\" x=\"421.5\" y=\"-124.8\" font-family=\"Times,serif\" font-size=\"14.00\">data &#45;6.0000</text>\n<polyline fill=\"none\" stroke=\"black\" points=\"464,-110.5 464,-146.5\"/>\n<text text-anchor=\"middle\" x=\"505\" y=\"-124.8\" font-family=\"Times,serif\" font-size=\"14.00\">grad 0.5000</text>\n</g>\n<!-- 140477650812736&#45;&gt;140477943253168+ -->\n<g id=\"edge14\" class=\"edge\">\n<title>140477650812736&#45;&gt;140477943253168+</title>\n<path fill=\"none\" stroke=\"black\" d=\"M545.78,-110.69C554.79,-109.21 563.43,-107.8 571.25,-106.52\"/>\n<polygon fill=\"black\" stroke=\"black\" points=\"571.64,-110 580.94,-104.93 570.5,-103.09 571.64,-110\"/>\n</g>\n<!-- 140477650812736* -->\n<g id=\"node7\" class=\"node\">\n<title>140477650812736*</title>\n<ellipse fill=\"none\" stroke=\"black\" cx=\"263\" cy=\"-128.5\" rx=\"27\" ry=\"18\"/>\n<text text-anchor=\"middle\" x=\"263\" y=\"-124.8\" font-family=\"Times,serif\" font-size=\"14.00\">*</text>\n</g>\n<!-- 140477650812736*&#45;&gt;140477650812736 -->\n<g id=\"edge3\" class=\"edge\">\n<title>140477650812736*&#45;&gt;140477650812736</title>\n<path fill=\"none\" stroke=\"black\" d=\"M290.34,-128.5C297.6,-128.5 305.98,-128.5 314.97,-128.5\"/>\n<polygon fill=\"black\" stroke=\"black\" points=\"314.69,-132 324.69,-128.5 314.69,-125 314.69,-132\"/>\n</g>\n<!-- 140477943253456 -->\n<g id=\"node8\" class=\"node\">\n<title>140477943253456</title>\n<polygon fill=\"none\" stroke=\"black\" points=\"328.5,-55.5 328.5,-91.5 543.5,-91.5 543.5,-55.5 328.5,-55.5\"/>\n<text text-anchor=\"middle\" x=\"355\" y=\"-69.8\" font-family=\"Times,serif\" font-size=\"14.00\">x2*w2</text>\n<polyline fill=\"none\" stroke=\"black\" points=\"381.5,-55.5 381.5,-91.5\"/>\n<text text-anchor=\"middle\" x=\"421.5\" y=\"-69.8\" font-family=\"Times,serif\" font-size=\"14.00\">data 0.0000</text>\n<polyline fill=\"none\" stroke=\"black\" points=\"461.5,-55.5 461.5,-91.5\"/>\n<text text-anchor=\"middle\" x=\"502.5\" y=\"-69.8\" font-family=\"Times,serif\" font-size=\"14.00\">grad 0.5000</text>\n</g>\n<!-- 140477943253456&#45;&gt;140477943253168+ -->\n<g id=\"edge7\" class=\"edge\">\n<title>140477943253456&#45;&gt;140477943253168+</title>\n<path fill=\"none\" stroke=\"black\" d=\"M543.35,-90.29C553.14,-91.84 562.54,-93.32 570.99,-94.66\"/>\n<polygon fill=\"black\" stroke=\"black\" points=\"570.34,-98.1 580.76,-96.2 571.43,-91.18 570.34,-98.1\"/>\n</g>\n<!-- 140477943253456*&#45;&gt;140477943253456 -->\n<g id=\"edge4\" class=\"edge\">\n<title>140477943253456*&#45;&gt;140477943253456</title>\n<path fill=\"none\" stroke=\"black\" d=\"M290.34,-73.5C298.24,-73.5 307.46,-73.5 317.34,-73.5\"/>\n<polygon fill=\"black\" stroke=\"black\" points=\"317.24,-77 327.24,-73.5 317.24,-70 317.24,-77\"/>\n</g>\n<!-- 140477650810720 -->\n<g id=\"node10\" class=\"node\">\n<title>140477650810720</title>\n<polygon fill=\"none\" stroke=\"black\" points=\"716,-27.5 716,-63.5 901,-63.5 901,-27.5 716,-27.5\"/>\n<text text-anchor=\"middle\" x=\"727.5\" y=\"-41.8\" font-family=\"Times,serif\" font-size=\"14.00\">b</text>\n<polyline fill=\"none\" stroke=\"black\" points=\"739,-27.5 739,-63.5\"/>\n<text text-anchor=\"middle\" x=\"779\" y=\"-41.8\" font-family=\"Times,serif\" font-size=\"14.00\">data 6.8814</text>\n<polyline fill=\"none\" stroke=\"black\" points=\"819,-27.5 819,-63.5\"/>\n<text text-anchor=\"middle\" x=\"860\" y=\"-41.8\" font-family=\"Times,serif\" font-size=\"14.00\">grad 0.5000</text>\n</g>\n<!-- 140477650810720&#45;&gt;140477943253024+ -->\n<g id=\"edge11\" class=\"edge\">\n<title>140477650810720&#45;&gt;140477943253024+</title>\n<path fill=\"none\" stroke=\"black\" d=\"M900.73,-57.97C925.29,-61.33 950.47,-64.77 970.15,-67.46\"/>\n<polygon fill=\"black\" stroke=\"black\" points=\"969.47,-70.9 979.85,-68.79 970.41,-63.97 969.47,-70.9\"/>\n</g>\n<!-- 140477650812304 -->\n<g id=\"node11\" class=\"node\">\n<title>140477650812304</title>\n<polygon fill=\"none\" stroke=\"black\" points=\"2,-165.5 2,-201.5 198,-201.5 198,-165.5 2,-165.5\"/>\n<text text-anchor=\"middle\" x=\"17\" y=\"-179.8\" font-family=\"Times,serif\" font-size=\"14.00\">x1</text>\n<polyline fill=\"none\" stroke=\"black\" points=\"32,-165.5 32,-201.5\"/>\n<text text-anchor=\"middle\" x=\"72\" y=\"-179.8\" font-family=\"Times,serif\" font-size=\"14.00\">data 2.0000</text>\n<polyline fill=\"none\" stroke=\"black\" points=\"112,-165.5 112,-201.5\"/>\n<text text-anchor=\"middle\" x=\"155\" y=\"-179.8\" font-family=\"Times,serif\" font-size=\"14.00\">grad &#45;1.5000</text>\n</g>\n<!-- 140477650812304&#45;&gt;140477650812736* -->\n<g id=\"edge10\" class=\"edge\">\n<title>140477650812304&#45;&gt;140477650812736*</title>\n<path fill=\"none\" stroke=\"black\" d=\"M172.27,-165.52C181.67,-162.72 191.12,-159.7 200,-156.5 210.09,-152.87 220.83,-148.29 230.48,-143.89\"/>\n<polygon fill=\"black\" stroke=\"black\" points=\"231.87,-147.11 239.45,-139.71 228.91,-140.76 231.87,-147.11\"/>\n</g>\n<!-- 140477650812352 -->\n<g id=\"node12\" class=\"node\">\n<title>140477650812352</title>\n<polygon fill=\"none\" stroke=\"black\" points=\"0,-110.5 0,-146.5 200,-146.5 200,-110.5 0,-110.5\"/>\n<text text-anchor=\"middle\" x=\"16.5\" y=\"-124.8\" font-family=\"Times,serif\" font-size=\"14.00\">w1</text>\n<polyline fill=\"none\" stroke=\"black\" points=\"33,-110.5 33,-146.5\"/>\n<text text-anchor=\"middle\" x=\"75.5\" y=\"-124.8\" font-family=\"Times,serif\" font-size=\"14.00\">data &#45;3.0000</text>\n<polyline fill=\"none\" stroke=\"black\" points=\"118,-110.5 118,-146.5\"/>\n<text text-anchor=\"middle\" x=\"159\" y=\"-124.8\" font-family=\"Times,serif\" font-size=\"14.00\">grad 1.0000</text>\n</g>\n<!-- 140477650812352&#45;&gt;140477650812736* -->\n<g id=\"edge12\" class=\"edge\">\n<title>140477650812352&#45;&gt;140477650812736*</title>\n<path fill=\"none\" stroke=\"black\" d=\"M199.75,-128.5C208.38,-128.5 216.71,-128.5 224.33,-128.5\"/>\n<polygon fill=\"black\" stroke=\"black\" points=\"224.12,-132 234.12,-128.5 224.12,-125 224.12,-132\"/>\n</g>\n<!-- 140477650760656 -->\n<g id=\"node13\" class=\"node\">\n<title>140477650760656</title>\n<polygon fill=\"none\" stroke=\"black\" points=\"1382,-54.5 1382,-90.5 1567,-90.5 1567,-54.5 1382,-54.5\"/>\n<text text-anchor=\"middle\" x=\"1393.5\" y=\"-68.8\" font-family=\"Times,serif\" font-size=\"14.00\">o</text>\n<polyline fill=\"none\" stroke=\"black\" points=\"1405,-54.5 1405,-90.5\"/>\n<text text-anchor=\"middle\" x=\"1445\" y=\"-68.8\" font-family=\"Times,serif\" font-size=\"14.00\">data 0.7071</text>\n<polyline fill=\"none\" stroke=\"black\" points=\"1485,-54.5 1485,-90.5\"/>\n<text text-anchor=\"middle\" x=\"1526\" y=\"-68.8\" font-family=\"Times,serif\" font-size=\"14.00\">grad 1.0000</text>\n</g>\n<!-- 140477650760656tanh&#45;&gt;140477650760656 -->\n<g id=\"edge5\" class=\"edge\">\n<title>140477650760656tanh&#45;&gt;140477650760656</title>\n<path fill=\"none\" stroke=\"black\" d=\"M1346.39,-72.5C1353.62,-72.5 1361.92,-72.5 1370.74,-72.5\"/>\n<polygon fill=\"black\" stroke=\"black\" points=\"1370.64,-76 1380.64,-72.5 1370.64,-69 1370.64,-76\"/>\n</g>\n<!-- 140477650812400 -->\n<g id=\"node15\" class=\"node\">\n<title>140477650812400</title>\n<polygon fill=\"none\" stroke=\"black\" points=\"4,-0.5 4,-36.5 196,-36.5 196,-0.5 4,-0.5\"/>\n<text text-anchor=\"middle\" x=\"19\" y=\"-14.8\" font-family=\"Times,serif\" font-size=\"14.00\">x2</text>\n<polyline fill=\"none\" stroke=\"black\" points=\"34,-0.5 34,-36.5\"/>\n<text text-anchor=\"middle\" x=\"74\" y=\"-14.8\" font-family=\"Times,serif\" font-size=\"14.00\">data 0.0000</text>\n<polyline fill=\"none\" stroke=\"black\" points=\"114,-0.5 114,-36.5\"/>\n<text text-anchor=\"middle\" x=\"155\" y=\"-14.8\" font-family=\"Times,serif\" font-size=\"14.00\">grad 0.5000</text>\n</g>\n<!-- 140477650812400&#45;&gt;140477943253456* -->\n<g id=\"edge8\" class=\"edge\">\n<title>140477650812400&#45;&gt;140477943253456*</title>\n<path fill=\"none\" stroke=\"black\" d=\"M172.27,-36.48C181.67,-39.28 191.12,-42.3 200,-45.5 210.09,-49.13 220.83,-53.71 230.48,-58.11\"/>\n<polygon fill=\"black\" stroke=\"black\" points=\"228.91,-61.24 239.45,-62.29 231.87,-54.89 228.91,-61.24\"/>\n</g>\n</g>\n</svg>\n",
      "text/plain": [
       "<graphviz.graphs.Digraph at 0x7fc39324adc0>"
      ]
     },
     "execution_count": 27,
     "metadata": {},
     "output_type": "execute_result"
    }
   ],
   "source": [
    "draw_dot(o)"
   ]
  },
  {
   "cell_type": "code",
   "execution_count": 7,
   "metadata": {},
   "outputs": [],
   "source": [
    "o.backward()"
   ]
  },
  {
   "cell_type": "code",
   "execution_count": 28,
   "metadata": {},
   "outputs": [
    {
     "data": {
      "image/svg+xml": "<?xml version=\"1.0\" encoding=\"UTF-8\" standalone=\"no\"?>\n<!DOCTYPE svg PUBLIC \"-//W3C//DTD SVG 1.1//EN\"\n \"http://www.w3.org/Graphics/SVG/1.1/DTD/svg11.dtd\">\n<!-- Generated by graphviz version 7.0.0 (20221023.0053)\n -->\n<!-- Pages: 1 -->\n<svg width=\"2944pt\" height=\"236pt\"\n viewBox=\"0.00 0.00 2944.00 236.00\" xmlns=\"http://www.w3.org/2000/svg\" xmlns:xlink=\"http://www.w3.org/1999/xlink\">\n<g id=\"graph0\" class=\"graph\" transform=\"scale(1 1) rotate(0) translate(4 232)\">\n<polygon fill=\"white\" stroke=\"none\" points=\"-4,4 -4,-232 2940,-232 2940,4 -4,4\"/>\n<!-- 140477650811920 -->\n<g id=\"node1\" class=\"node\">\n<title>140477650811920</title>\n<polygon fill=\"none\" stroke=\"black\" points=\"2751,-135.5 2751,-171.5 2936,-171.5 2936,-135.5 2751,-135.5\"/>\n<text text-anchor=\"middle\" x=\"2762.5\" y=\"-149.8\" font-family=\"Times,serif\" font-size=\"14.00\">o</text>\n<polyline fill=\"none\" stroke=\"black\" points=\"2774,-135.5 2774,-171.5\"/>\n<text text-anchor=\"middle\" x=\"2814\" y=\"-149.8\" font-family=\"Times,serif\" font-size=\"14.00\">data 0.7071</text>\n<polyline fill=\"none\" stroke=\"black\" points=\"2854,-135.5 2854,-171.5\"/>\n<text text-anchor=\"middle\" x=\"2895\" y=\"-149.8\" font-family=\"Times,serif\" font-size=\"14.00\">grad 1.0000</text>\n</g>\n<!-- 140477650811920* -->\n<g id=\"node2\" class=\"node\">\n<title>140477650811920*</title>\n<ellipse fill=\"none\" stroke=\"black\" cx=\"2688\" cy=\"-153.5\" rx=\"27\" ry=\"18\"/>\n<text text-anchor=\"middle\" x=\"2688\" y=\"-149.8\" font-family=\"Times,serif\" font-size=\"14.00\">*</text>\n</g>\n<!-- 140477650811920*&#45;&gt;140477650811920 -->\n<g id=\"edge1\" class=\"edge\">\n<title>140477650811920*&#45;&gt;140477650811920</title>\n<path fill=\"none\" stroke=\"black\" d=\"M2715.39,-153.5C2722.62,-153.5 2730.92,-153.5 2739.74,-153.5\"/>\n<polygon fill=\"black\" stroke=\"black\" points=\"2739.64,-157 2749.64,-153.5 2739.64,-150 2739.64,-157\"/>\n</g>\n<!-- 140477650762768 -->\n<g id=\"node3\" class=\"node\">\n<title>140477650762768</title>\n<polygon fill=\"none\" stroke=\"black\" points=\"1072.5,-164.5 1072.5,-200.5 1254.5,-200.5 1254.5,-164.5 1072.5,-164.5\"/>\n<text text-anchor=\"middle\" x=\"1082.5\" y=\"-178.8\" font-family=\"Times,serif\" font-size=\"14.00\"> </text>\n<polyline fill=\"none\" stroke=\"black\" points=\"1092.5,-164.5 1092.5,-200.5\"/>\n<text text-anchor=\"middle\" x=\"1132.5\" y=\"-178.8\" font-family=\"Times,serif\" font-size=\"14.00\">data 2.0000</text>\n<polyline fill=\"none\" stroke=\"black\" points=\"1172.5,-164.5 1172.5,-200.5\"/>\n<text text-anchor=\"middle\" x=\"1213.5\" y=\"-178.8\" font-family=\"Times,serif\" font-size=\"14.00\">grad 0.2203</text>\n</g>\n<!-- 140477650809136* -->\n<g id=\"node20\" class=\"node\">\n<title>140477650809136*</title>\n<ellipse fill=\"none\" stroke=\"black\" cx=\"1319\" cy=\"-154.5\" rx=\"27\" ry=\"18\"/>\n<text text-anchor=\"middle\" x=\"1319\" y=\"-150.8\" font-family=\"Times,serif\" font-size=\"14.00\">*</text>\n</g>\n<!-- 140477650762768&#45;&gt;140477650809136* -->\n<g id=\"edge12\" class=\"edge\">\n<title>140477650762768&#45;&gt;140477650809136*</title>\n<path fill=\"none\" stroke=\"black\" d=\"M1254.24,-166.13C1263.78,-164.39 1273.05,-162.7 1281.42,-161.17\"/>\n<polygon fill=\"black\" stroke=\"black\" points=\"1281.91,-164.64 1291.12,-159.4 1280.66,-157.75 1281.91,-164.64\"/>\n</g>\n<!-- 140477650810288 -->\n<g id=\"node4\" class=\"node\">\n<title>140477650810288</title>\n<polygon fill=\"none\" stroke=\"black\" points=\"1690,-81.5 1690,-117.5 1877,-117.5 1877,-81.5 1690,-81.5\"/>\n<text text-anchor=\"middle\" x=\"1700\" y=\"-95.8\" font-family=\"Times,serif\" font-size=\"14.00\"> </text>\n<polyline fill=\"none\" stroke=\"black\" points=\"1710,-81.5 1710,-117.5\"/>\n<text text-anchor=\"middle\" x=\"1752.5\" y=\"-95.8\" font-family=\"Times,serif\" font-size=\"14.00\">data &#45;1.0000</text>\n<polyline fill=\"none\" stroke=\"black\" points=\"1795,-81.5 1795,-117.5\"/>\n<text text-anchor=\"middle\" x=\"1836\" y=\"-95.8\" font-family=\"Times,serif\" font-size=\"14.00\">grad 0.1464</text>\n</g>\n<!-- 140477650811584+ -->\n<g id=\"node12\" class=\"node\">\n<title>140477650811584+</title>\n<ellipse fill=\"none\" stroke=\"black\" cx=\"1940\" cy=\"-126.5\" rx=\"27\" ry=\"18\"/>\n<text text-anchor=\"middle\" x=\"1940\" y=\"-122.8\" font-family=\"Times,serif\" font-size=\"14.00\">+</text>\n</g>\n<!-- 140477650810288&#45;&gt;140477650811584+ -->\n<g id=\"edge26\" class=\"edge\">\n<title>140477650810288&#45;&gt;140477650811584+</title>\n<path fill=\"none\" stroke=\"black\" d=\"M1876.6,-115.6C1885.53,-117.16 1894.18,-118.67 1902.06,-120.04\"/>\n<polygon fill=\"black\" stroke=\"black\" points=\"1901.4,-123.48 1911.86,-121.76 1902.61,-116.59 1901.4,-123.48\"/>\n</g>\n<!-- 140477650762816 -->\n<g id=\"node5\" class=\"node\">\n<title>140477650762816</title>\n<polygon fill=\"none\" stroke=\"black\" points=\"0,-165.5 0,-201.5 200,-201.5 200,-165.5 0,-165.5\"/>\n<text text-anchor=\"middle\" x=\"16.5\" y=\"-179.8\" font-family=\"Times,serif\" font-size=\"14.00\">w1</text>\n<polyline fill=\"none\" stroke=\"black\" points=\"33,-165.5 33,-201.5\"/>\n<text text-anchor=\"middle\" x=\"75.5\" y=\"-179.8\" font-family=\"Times,serif\" font-size=\"14.00\">data &#45;3.0000</text>\n<polyline fill=\"none\" stroke=\"black\" points=\"118,-165.5 118,-201.5\"/>\n<text text-anchor=\"middle\" x=\"159\" y=\"-179.8\" font-family=\"Times,serif\" font-size=\"14.00\">grad 1.0000</text>\n</g>\n<!-- 140477650763536* -->\n<g id=\"node17\" class=\"node\">\n<title>140477650763536*</title>\n<ellipse fill=\"none\" stroke=\"black\" cx=\"263\" cy=\"-128.5\" rx=\"27\" ry=\"18\"/>\n<text text-anchor=\"middle\" x=\"263\" y=\"-124.8\" font-family=\"Times,serif\" font-size=\"14.00\">*</text>\n</g>\n<!-- 140477650762816&#45;&gt;140477650763536* -->\n<g id=\"edge21\" class=\"edge\">\n<title>140477650762816&#45;&gt;140477650763536*</title>\n<path fill=\"none\" stroke=\"black\" d=\"M172.27,-165.52C181.67,-162.72 191.12,-159.7 200,-156.5 210.09,-152.87 220.83,-148.29 230.48,-143.89\"/>\n<polygon fill=\"black\" stroke=\"black\" points=\"231.87,-147.11 239.45,-139.71 228.91,-140.76 231.87,-147.11\"/>\n</g>\n<!-- 140477650811536 -->\n<g id=\"node6\" class=\"node\">\n<title>140477650811536</title>\n<polygon fill=\"none\" stroke=\"black\" points=\"2003,-163.5 2003,-199.5 2189,-199.5 2189,-163.5 2003,-163.5\"/>\n<text text-anchor=\"middle\" x=\"2013\" y=\"-177.8\" font-family=\"Times,serif\" font-size=\"14.00\"> </text>\n<polyline fill=\"none\" stroke=\"black\" points=\"2023,-163.5 2023,-199.5\"/>\n<text text-anchor=\"middle\" x=\"2063\" y=\"-177.8\" font-family=\"Times,serif\" font-size=\"14.00\">data 6.8284</text>\n<polyline fill=\"none\" stroke=\"black\" points=\"2103,-163.5 2103,-199.5\"/>\n<text text-anchor=\"middle\" x=\"2146\" y=\"-177.8\" font-family=\"Times,serif\" font-size=\"14.00\">grad &#45;0.1036</text>\n</g>\n<!-- 140477650812592**&#45;1 -->\n<g id=\"node9\" class=\"node\">\n<title>140477650812592**&#45;1</title>\n<ellipse fill=\"none\" stroke=\"black\" cx=\"2316\" cy=\"-181.5\" rx=\"27\" ry=\"18\"/>\n<text text-anchor=\"middle\" x=\"2316\" y=\"-177.8\" font-family=\"Times,serif\" font-size=\"14.00\">**&#45;1</text>\n</g>\n<!-- 140477650811536&#45;&gt;140477650812592**&#45;1 -->\n<g id=\"edge19\" class=\"edge\">\n<title>140477650811536&#45;&gt;140477650812592**&#45;1</title>\n<path fill=\"none\" stroke=\"black\" d=\"M2188.82,-181.5C2220.02,-181.5 2253.15,-181.5 2277.62,-181.5\"/>\n<polygon fill=\"black\" stroke=\"black\" points=\"2277.39,-185 2287.39,-181.5 2277.39,-178 2277.39,-185\"/>\n</g>\n<!-- 140477650811536+ -->\n<g id=\"node7\" class=\"node\">\n<title>140477650811536+</title>\n<ellipse fill=\"none\" stroke=\"black\" cx=\"1940\" cy=\"-181.5\" rx=\"27\" ry=\"18\"/>\n<text text-anchor=\"middle\" x=\"1940\" y=\"-177.8\" font-family=\"Times,serif\" font-size=\"14.00\">+</text>\n</g>\n<!-- 140477650811536+&#45;&gt;140477650811536 -->\n<g id=\"edge2\" class=\"edge\">\n<title>140477650811536+&#45;&gt;140477650811536</title>\n<path fill=\"none\" stroke=\"black\" d=\"M1967.47,-181.5C1974.67,-181.5 1982.92,-181.5 1991.69,-181.5\"/>\n<polygon fill=\"black\" stroke=\"black\" points=\"1991.51,-185 2001.51,-181.5 1991.51,-178 1991.51,-185\"/>\n</g>\n<!-- 140477650812592 -->\n<g id=\"node8\" class=\"node\">\n<title>140477650812592</title>\n<polygon fill=\"none\" stroke=\"black\" points=\"2443,-161.5 2443,-197.5 2625,-197.5 2625,-161.5 2443,-161.5\"/>\n<text text-anchor=\"middle\" x=\"2453\" y=\"-175.8\" font-family=\"Times,serif\" font-size=\"14.00\"> </text>\n<polyline fill=\"none\" stroke=\"black\" points=\"2463,-161.5 2463,-197.5\"/>\n<text text-anchor=\"middle\" x=\"2503\" y=\"-175.8\" font-family=\"Times,serif\" font-size=\"14.00\">data 0.1464</text>\n<polyline fill=\"none\" stroke=\"black\" points=\"2543,-161.5 2543,-197.5\"/>\n<text text-anchor=\"middle\" x=\"2584\" y=\"-175.8\" font-family=\"Times,serif\" font-size=\"14.00\">grad 4.8284</text>\n</g>\n<!-- 140477650812592&#45;&gt;140477650811920* -->\n<g id=\"edge18\" class=\"edge\">\n<title>140477650812592&#45;&gt;140477650811920*</title>\n<path fill=\"none\" stroke=\"black\" d=\"M2624.74,-164.15C2633.62,-162.63 2642.23,-161.16 2650.09,-159.81\"/>\n<polygon fill=\"black\" stroke=\"black\" points=\"2650.6,-163.28 2659.86,-158.14 2649.42,-156.38 2650.6,-163.28\"/>\n</g>\n<!-- 140477650812592**&#45;1&#45;&gt;140477650812592 -->\n<g id=\"edge3\" class=\"edge\">\n<title>140477650812592**&#45;1&#45;&gt;140477650812592</title>\n<path fill=\"none\" stroke=\"black\" d=\"M2343.49,-181.25C2365.76,-181.05 2399.08,-180.74 2431.61,-180.44\"/>\n<polygon fill=\"black\" stroke=\"black\" points=\"2431.58,-183.94 2441.54,-180.35 2431.51,-176.94 2431.58,-183.94\"/>\n</g>\n<!-- 140477650762432 -->\n<g id=\"node10\" class=\"node\">\n<title>140477650762432</title>\n<polygon fill=\"none\" stroke=\"black\" points=\"716,-137.5 716,-173.5 901,-173.5 901,-137.5 716,-137.5\"/>\n<text text-anchor=\"middle\" x=\"727.5\" y=\"-151.8\" font-family=\"Times,serif\" font-size=\"14.00\">b</text>\n<polyline fill=\"none\" stroke=\"black\" points=\"739,-137.5 739,-173.5\"/>\n<text text-anchor=\"middle\" x=\"779\" y=\"-151.8\" font-family=\"Times,serif\" font-size=\"14.00\">data 6.8814</text>\n<polyline fill=\"none\" stroke=\"black\" points=\"819,-137.5 819,-173.5\"/>\n<text text-anchor=\"middle\" x=\"860\" y=\"-151.8\" font-family=\"Times,serif\" font-size=\"14.00\">grad 0.5000</text>\n</g>\n<!-- 140477650762144+ -->\n<g id=\"node26\" class=\"node\">\n<title>140477650762144+</title>\n<ellipse fill=\"none\" stroke=\"black\" cx=\"1008\" cy=\"-127.5\" rx=\"27\" ry=\"18\"/>\n<text text-anchor=\"middle\" x=\"1008\" y=\"-123.8\" font-family=\"Times,serif\" font-size=\"14.00\">+</text>\n</g>\n<!-- 140477650762432&#45;&gt;140477650762144+ -->\n<g id=\"edge20\" class=\"edge\">\n<title>140477650762432&#45;&gt;140477650762144+</title>\n<path fill=\"none\" stroke=\"black\" d=\"M900.73,-142.57C925.29,-139.08 950.47,-135.51 970.15,-132.72\"/>\n<polygon fill=\"black\" stroke=\"black\" points=\"970.44,-136.22 979.85,-131.35 969.46,-129.29 970.44,-136.22\"/>\n</g>\n<!-- 140477650811584 -->\n<g id=\"node11\" class=\"node\">\n<title>140477650811584</title>\n<polygon fill=\"none\" stroke=\"black\" points=\"2225,-108.5 2225,-144.5 2407,-144.5 2407,-108.5 2225,-108.5\"/>\n<text text-anchor=\"middle\" x=\"2235\" y=\"-122.8\" font-family=\"Times,serif\" font-size=\"14.00\"> </text>\n<polyline fill=\"none\" stroke=\"black\" points=\"2245,-108.5 2245,-144.5\"/>\n<text text-anchor=\"middle\" x=\"2285\" y=\"-122.8\" font-family=\"Times,serif\" font-size=\"14.00\">data 4.8284</text>\n<polyline fill=\"none\" stroke=\"black\" points=\"2325,-108.5 2325,-144.5\"/>\n<text text-anchor=\"middle\" x=\"2366\" y=\"-122.8\" font-family=\"Times,serif\" font-size=\"14.00\">grad 0.1464</text>\n</g>\n<!-- 140477650811584&#45;&gt;140477650811920* -->\n<g id=\"edge17\" class=\"edge\">\n<title>140477650811584&#45;&gt;140477650811920*</title>\n<path fill=\"none\" stroke=\"black\" d=\"M2406.57,-133.04C2484.44,-138.72 2593.37,-146.67 2649.81,-150.79\"/>\n<polygon fill=\"black\" stroke=\"black\" points=\"2649.29,-154.26 2659.52,-151.49 2649.8,-147.28 2649.29,-154.26\"/>\n</g>\n<!-- 140477650811584+&#45;&gt;140477650811584 -->\n<g id=\"edge4\" class=\"edge\">\n<title>140477650811584+&#45;&gt;140477650811584</title>\n<path fill=\"none\" stroke=\"black\" d=\"M1967.3,-126.5C2017.69,-126.5 2130.25,-126.5 2213.73,-126.5\"/>\n<polygon fill=\"black\" stroke=\"black\" points=\"2213.53,-130 2223.53,-126.5 2213.53,-123 2213.53,-130\"/>\n</g>\n<!-- 140477650811104 -->\n<g id=\"node13\" class=\"node\">\n<title>140477650811104</title>\n<polygon fill=\"none\" stroke=\"black\" points=\"1690.5,-191.5 1690.5,-227.5 1876.5,-227.5 1876.5,-191.5 1690.5,-191.5\"/>\n<text text-anchor=\"middle\" x=\"1700.5\" y=\"-205.8\" font-family=\"Times,serif\" font-size=\"14.00\"> </text>\n<polyline fill=\"none\" stroke=\"black\" points=\"1710.5,-191.5 1710.5,-227.5\"/>\n<text text-anchor=\"middle\" x=\"1750.5\" y=\"-205.8\" font-family=\"Times,serif\" font-size=\"14.00\">data 1.0000</text>\n<polyline fill=\"none\" stroke=\"black\" points=\"1790.5,-191.5 1790.5,-227.5\"/>\n<text text-anchor=\"middle\" x=\"1833.5\" y=\"-205.8\" font-family=\"Times,serif\" font-size=\"14.00\">grad &#45;0.1036</text>\n</g>\n<!-- 140477650811104&#45;&gt;140477650811536+ -->\n<g id=\"edge27\" class=\"edge\">\n<title>140477650811104&#45;&gt;140477650811536+</title>\n<path fill=\"none\" stroke=\"black\" d=\"M1876.16,-192.89C1885.33,-191.23 1894.21,-189.62 1902.28,-188.15\"/>\n<polygon fill=\"black\" stroke=\"black\" points=\"1902.74,-191.63 1911.95,-186.4 1901.49,-184.74 1902.74,-191.63\"/>\n</g>\n<!-- 140477650809088 -->\n<g id=\"node14\" class=\"node\">\n<title>140477650809088</title>\n<polygon fill=\"none\" stroke=\"black\" points=\"1692.5,-136.5 1692.5,-172.5 1874.5,-172.5 1874.5,-136.5 1692.5,-136.5\"/>\n<text text-anchor=\"middle\" x=\"1702.5\" y=\"-150.8\" font-family=\"Times,serif\" font-size=\"14.00\"> </text>\n<polyline fill=\"none\" stroke=\"black\" points=\"1712.5,-136.5 1712.5,-172.5\"/>\n<text text-anchor=\"middle\" x=\"1752.5\" y=\"-150.8\" font-family=\"Times,serif\" font-size=\"14.00\">data 5.8284</text>\n<polyline fill=\"none\" stroke=\"black\" points=\"1792.5,-136.5 1792.5,-172.5\"/>\n<text text-anchor=\"middle\" x=\"1833.5\" y=\"-150.8\" font-family=\"Times,serif\" font-size=\"14.00\">grad 0.0429</text>\n</g>\n<!-- 140477650809088&#45;&gt;140477650811536+ -->\n<g id=\"edge25\" class=\"edge\">\n<title>140477650809088&#45;&gt;140477650811536+</title>\n<path fill=\"none\" stroke=\"black\" d=\"M1874.37,-170.21C1884.23,-171.93 1893.81,-173.6 1902.44,-175.11\"/>\n<polygon fill=\"black\" stroke=\"black\" points=\"1901.61,-178.52 1912.06,-176.79 1902.81,-171.62 1901.61,-178.52\"/>\n</g>\n<!-- 140477650809088&#45;&gt;140477650811584+ -->\n<g id=\"edge28\" class=\"edge\">\n<title>140477650809088&#45;&gt;140477650811584+</title>\n<path fill=\"none\" stroke=\"black\" d=\"M1874.37,-138.21C1884.23,-136.43 1893.81,-134.69 1902.44,-133.13\"/>\n<polygon fill=\"black\" stroke=\"black\" points=\"1902.85,-136.61 1912.06,-131.38 1901.6,-129.72 1902.85,-136.61\"/>\n</g>\n<!-- 140477650809088exp -->\n<g id=\"node15\" class=\"node\">\n<title>140477650809088exp</title>\n<ellipse fill=\"none\" stroke=\"black\" cx=\"1627\" cy=\"-154.5\" rx=\"27\" ry=\"18\"/>\n<text text-anchor=\"middle\" x=\"1627\" y=\"-150.8\" font-family=\"Times,serif\" font-size=\"14.00\">exp</text>\n</g>\n<!-- 140477650809088exp&#45;&gt;140477650809088 -->\n<g id=\"edge5\" class=\"edge\">\n<title>140477650809088exp&#45;&gt;140477650809088</title>\n<path fill=\"none\" stroke=\"black\" d=\"M1654.21,-154.5C1662.15,-154.5 1671.4,-154.5 1681.22,-154.5\"/>\n<polygon fill=\"black\" stroke=\"black\" points=\"1681.01,-158 1691.01,-154.5 1681.01,-151 1681.01,-158\"/>\n</g>\n<!-- 140477650763536 -->\n<g id=\"node16\" class=\"node\">\n<title>140477650763536</title>\n<polygon fill=\"none\" stroke=\"black\" points=\"326,-110.5 326,-146.5 546,-146.5 546,-110.5 326,-110.5\"/>\n<text text-anchor=\"middle\" x=\"352.5\" y=\"-124.8\" font-family=\"Times,serif\" font-size=\"14.00\">x1*w1</text>\n<polyline fill=\"none\" stroke=\"black\" points=\"379,-110.5 379,-146.5\"/>\n<text text-anchor=\"middle\" x=\"421.5\" y=\"-124.8\" font-family=\"Times,serif\" font-size=\"14.00\">data &#45;6.0000</text>\n<polyline fill=\"none\" stroke=\"black\" points=\"464,-110.5 464,-146.5\"/>\n<text text-anchor=\"middle\" x=\"505\" y=\"-124.8\" font-family=\"Times,serif\" font-size=\"14.00\">grad 0.5000</text>\n</g>\n<!-- 140477650762576+ -->\n<g id=\"node22\" class=\"node\">\n<title>140477650762576+</title>\n<ellipse fill=\"none\" stroke=\"black\" cx=\"609\" cy=\"-100.5\" rx=\"27\" ry=\"18\"/>\n<text text-anchor=\"middle\" x=\"609\" y=\"-96.8\" font-family=\"Times,serif\" font-size=\"14.00\">+</text>\n</g>\n<!-- 140477650763536&#45;&gt;140477650762576+ -->\n<g id=\"edge14\" class=\"edge\">\n<title>140477650763536&#45;&gt;140477650762576+</title>\n<path fill=\"none\" stroke=\"black\" d=\"M545.78,-110.69C554.79,-109.21 563.43,-107.8 571.25,-106.52\"/>\n<polygon fill=\"black\" stroke=\"black\" points=\"571.64,-110 580.94,-104.93 570.5,-103.09 571.64,-110\"/>\n</g>\n<!-- 140477650763536*&#45;&gt;140477650763536 -->\n<g id=\"edge6\" class=\"edge\">\n<title>140477650763536*&#45;&gt;140477650763536</title>\n<path fill=\"none\" stroke=\"black\" d=\"M290.34,-128.5C297.6,-128.5 305.98,-128.5 314.97,-128.5\"/>\n<polygon fill=\"black\" stroke=\"black\" points=\"314.69,-132 324.69,-128.5 314.69,-125 314.69,-132\"/>\n</g>\n<!-- 140477650762528 -->\n<g id=\"node18\" class=\"node\">\n<title>140477650762528</title>\n<polygon fill=\"none\" stroke=\"black\" points=\"4,-55.5 4,-91.5 196,-91.5 196,-55.5 4,-55.5\"/>\n<text text-anchor=\"middle\" x=\"19\" y=\"-69.8\" font-family=\"Times,serif\" font-size=\"14.00\">x2</text>\n<polyline fill=\"none\" stroke=\"black\" points=\"34,-55.5 34,-91.5\"/>\n<text text-anchor=\"middle\" x=\"74\" y=\"-69.8\" font-family=\"Times,serif\" font-size=\"14.00\">data 0.0000</text>\n<polyline fill=\"none\" stroke=\"black\" points=\"114,-55.5 114,-91.5\"/>\n<text text-anchor=\"middle\" x=\"155\" y=\"-69.8\" font-family=\"Times,serif\" font-size=\"14.00\">grad 0.5000</text>\n</g>\n<!-- 140477650762672* -->\n<g id=\"node28\" class=\"node\">\n<title>140477650762672*</title>\n<ellipse fill=\"none\" stroke=\"black\" cx=\"263\" cy=\"-73.5\" rx=\"27\" ry=\"18\"/>\n<text text-anchor=\"middle\" x=\"263\" y=\"-69.8\" font-family=\"Times,serif\" font-size=\"14.00\">*</text>\n</g>\n<!-- 140477650762528&#45;&gt;140477650762672* -->\n<g id=\"edge22\" class=\"edge\">\n<title>140477650762528&#45;&gt;140477650762672*</title>\n<path fill=\"none\" stroke=\"black\" d=\"M195.59,-73.5C205.66,-73.5 215.42,-73.5 224.23,-73.5\"/>\n<polygon fill=\"black\" stroke=\"black\" points=\"224.07,-77 234.07,-73.5 224.07,-70 224.07,-77\"/>\n</g>\n<!-- 140477650809136 -->\n<g id=\"node19\" class=\"node\">\n<title>140477650809136</title>\n<polygon fill=\"none\" stroke=\"black\" points=\"1382,-136.5 1382,-172.5 1564,-172.5 1564,-136.5 1382,-136.5\"/>\n<text text-anchor=\"middle\" x=\"1392\" y=\"-150.8\" font-family=\"Times,serif\" font-size=\"14.00\"> </text>\n<polyline fill=\"none\" stroke=\"black\" points=\"1402,-136.5 1402,-172.5\"/>\n<text text-anchor=\"middle\" x=\"1442\" y=\"-150.8\" font-family=\"Times,serif\" font-size=\"14.00\">data 1.7627</text>\n<polyline fill=\"none\" stroke=\"black\" points=\"1482,-136.5 1482,-172.5\"/>\n<text text-anchor=\"middle\" x=\"1523\" y=\"-150.8\" font-family=\"Times,serif\" font-size=\"14.00\">grad 0.2500</text>\n</g>\n<!-- 140477650809136&#45;&gt;140477650809088exp -->\n<g id=\"edge24\" class=\"edge\">\n<title>140477650809136&#45;&gt;140477650809088exp</title>\n<path fill=\"none\" stroke=\"black\" d=\"M1563.74,-154.5C1572.34,-154.5 1580.7,-154.5 1588.36,-154.5\"/>\n<polygon fill=\"black\" stroke=\"black\" points=\"1588.24,-158 1598.24,-154.5 1588.24,-151 1588.24,-158\"/>\n</g>\n<!-- 140477650809136*&#45;&gt;140477650809136 -->\n<g id=\"edge7\" class=\"edge\">\n<title>140477650809136*&#45;&gt;140477650809136</title>\n<path fill=\"none\" stroke=\"black\" d=\"M1346.48,-154.5C1353.71,-154.5 1362.01,-154.5 1370.82,-154.5\"/>\n<polygon fill=\"black\" stroke=\"black\" points=\"1370.69,-158 1380.69,-154.5 1370.69,-151 1370.69,-158\"/>\n</g>\n<!-- 140477650762576 -->\n<g id=\"node21\" class=\"node\">\n<title>140477650762576</title>\n<polygon fill=\"none\" stroke=\"black\" points=\"672,-82.5 672,-118.5 945,-118.5 945,-82.5 672,-82.5\"/>\n<text text-anchor=\"middle\" x=\"725\" y=\"-96.8\" font-family=\"Times,serif\" font-size=\"14.00\">x1*w1 + x2*w2</text>\n<polyline fill=\"none\" stroke=\"black\" points=\"778,-82.5 778,-118.5\"/>\n<text text-anchor=\"middle\" x=\"820.5\" y=\"-96.8\" font-family=\"Times,serif\" font-size=\"14.00\">data &#45;6.0000</text>\n<polyline fill=\"none\" stroke=\"black\" points=\"863,-82.5 863,-118.5\"/>\n<text text-anchor=\"middle\" x=\"904\" y=\"-96.8\" font-family=\"Times,serif\" font-size=\"14.00\">grad 0.5000</text>\n</g>\n<!-- 140477650762576&#45;&gt;140477650762144+ -->\n<g id=\"edge23\" class=\"edge\">\n<title>140477650762576&#45;&gt;140477650762144+</title>\n<path fill=\"none\" stroke=\"black\" d=\"M940.96,-118.47C951.31,-119.89 961.12,-121.23 969.85,-122.42\"/>\n<polygon fill=\"black\" stroke=\"black\" points=\"969.17,-125.86 979.56,-123.75 970.12,-118.93 969.17,-125.86\"/>\n</g>\n<!-- 140477650762576+&#45;&gt;140477650762576 -->\n<g id=\"edge8\" class=\"edge\">\n<title>140477650762576+&#45;&gt;140477650762576</title>\n<path fill=\"none\" stroke=\"black\" d=\"M636.23,-100.5C643.46,-100.5 651.86,-100.5 660.97,-100.5\"/>\n<polygon fill=\"black\" stroke=\"black\" points=\"660.89,-104 670.89,-100.5 660.89,-97 660.89,-104\"/>\n</g>\n<!-- 140477650763104 -->\n<g id=\"node23\" class=\"node\">\n<title>140477650763104</title>\n<polygon fill=\"none\" stroke=\"black\" points=\"2,-110.5 2,-146.5 198,-146.5 198,-110.5 2,-110.5\"/>\n<text text-anchor=\"middle\" x=\"17\" y=\"-124.8\" font-family=\"Times,serif\" font-size=\"14.00\">x1</text>\n<polyline fill=\"none\" stroke=\"black\" points=\"32,-110.5 32,-146.5\"/>\n<text text-anchor=\"middle\" x=\"72\" y=\"-124.8\" font-family=\"Times,serif\" font-size=\"14.00\">data 2.0000</text>\n<polyline fill=\"none\" stroke=\"black\" points=\"112,-110.5 112,-146.5\"/>\n<text text-anchor=\"middle\" x=\"155\" y=\"-124.8\" font-family=\"Times,serif\" font-size=\"14.00\">grad &#45;1.5000</text>\n</g>\n<!-- 140477650763104&#45;&gt;140477650763536* -->\n<g id=\"edge13\" class=\"edge\">\n<title>140477650763104&#45;&gt;140477650763536*</title>\n<path fill=\"none\" stroke=\"black\" d=\"M197.91,-128.5C207.21,-128.5 216.21,-128.5 224.38,-128.5\"/>\n<polygon fill=\"black\" stroke=\"black\" points=\"224.18,-132 234.18,-128.5 224.18,-125 224.18,-132\"/>\n</g>\n<!-- 140477650762624 -->\n<g id=\"node24\" class=\"node\">\n<title>140477650762624</title>\n<polygon fill=\"none\" stroke=\"black\" points=\"2.5,-0.5 2.5,-36.5 197.5,-36.5 197.5,-0.5 2.5,-0.5\"/>\n<text text-anchor=\"middle\" x=\"19\" y=\"-14.8\" font-family=\"Times,serif\" font-size=\"14.00\">w2</text>\n<polyline fill=\"none\" stroke=\"black\" points=\"35.5,-0.5 35.5,-36.5\"/>\n<text text-anchor=\"middle\" x=\"75.5\" y=\"-14.8\" font-family=\"Times,serif\" font-size=\"14.00\">data 1.0000</text>\n<polyline fill=\"none\" stroke=\"black\" points=\"115.5,-0.5 115.5,-36.5\"/>\n<text text-anchor=\"middle\" x=\"156.5\" y=\"-14.8\" font-family=\"Times,serif\" font-size=\"14.00\">grad 0.0000</text>\n</g>\n<!-- 140477650762624&#45;&gt;140477650762672* -->\n<g id=\"edge16\" class=\"edge\">\n<title>140477650762624&#45;&gt;140477650762672*</title>\n<path fill=\"none\" stroke=\"black\" d=\"M172.27,-36.48C181.67,-39.28 191.12,-42.3 200,-45.5 210.09,-49.13 220.83,-53.71 230.48,-58.11\"/>\n<polygon fill=\"black\" stroke=\"black\" points=\"228.91,-61.24 239.45,-62.29 231.87,-54.89 228.91,-61.24\"/>\n</g>\n<!-- 140477650762144 -->\n<g id=\"node25\" class=\"node\">\n<title>140477650762144</title>\n<polygon fill=\"none\" stroke=\"black\" points=\"1071,-109.5 1071,-145.5 1256,-145.5 1256,-109.5 1071,-109.5\"/>\n<text text-anchor=\"middle\" x=\"1082.5\" y=\"-123.8\" font-family=\"Times,serif\" font-size=\"14.00\">n</text>\n<polyline fill=\"none\" stroke=\"black\" points=\"1094,-109.5 1094,-145.5\"/>\n<text text-anchor=\"middle\" x=\"1134\" y=\"-123.8\" font-family=\"Times,serif\" font-size=\"14.00\">data 0.8814</text>\n<polyline fill=\"none\" stroke=\"black\" points=\"1174,-109.5 1174,-145.5\"/>\n<text text-anchor=\"middle\" x=\"1215\" y=\"-123.8\" font-family=\"Times,serif\" font-size=\"14.00\">grad 0.5000</text>\n</g>\n<!-- 140477650762144&#45;&gt;140477650809136* -->\n<g id=\"edge11\" class=\"edge\">\n<title>140477650762144&#45;&gt;140477650809136*</title>\n<path fill=\"none\" stroke=\"black\" d=\"M1255.57,-143.52C1264.67,-145.12 1273.5,-146.67 1281.52,-148.08\"/>\n<polygon fill=\"black\" stroke=\"black\" points=\"1280.66,-151.49 1291.12,-149.77 1281.88,-144.59 1280.66,-151.49\"/>\n</g>\n<!-- 140477650762144+&#45;&gt;140477650762144 -->\n<g id=\"edge9\" class=\"edge\">\n<title>140477650762144+&#45;&gt;140477650762144</title>\n<path fill=\"none\" stroke=\"black\" d=\"M1035.39,-127.5C1042.62,-127.5 1050.92,-127.5 1059.74,-127.5\"/>\n<polygon fill=\"black\" stroke=\"black\" points=\"1059.64,-131 1069.64,-127.5 1059.64,-124 1059.64,-131\"/>\n</g>\n<!-- 140477650762672 -->\n<g id=\"node27\" class=\"node\">\n<title>140477650762672</title>\n<polygon fill=\"none\" stroke=\"black\" points=\"328.5,-55.5 328.5,-91.5 543.5,-91.5 543.5,-55.5 328.5,-55.5\"/>\n<text text-anchor=\"middle\" x=\"355\" y=\"-69.8\" font-family=\"Times,serif\" font-size=\"14.00\">x2*w2</text>\n<polyline fill=\"none\" stroke=\"black\" points=\"381.5,-55.5 381.5,-91.5\"/>\n<text text-anchor=\"middle\" x=\"421.5\" y=\"-69.8\" font-family=\"Times,serif\" font-size=\"14.00\">data 0.0000</text>\n<polyline fill=\"none\" stroke=\"black\" points=\"461.5,-55.5 461.5,-91.5\"/>\n<text text-anchor=\"middle\" x=\"502.5\" y=\"-69.8\" font-family=\"Times,serif\" font-size=\"14.00\">grad 0.5000</text>\n</g>\n<!-- 140477650762672&#45;&gt;140477650762576+ -->\n<g id=\"edge15\" class=\"edge\">\n<title>140477650762672&#45;&gt;140477650762576+</title>\n<path fill=\"none\" stroke=\"black\" d=\"M543.35,-90.29C553.14,-91.84 562.54,-93.32 570.99,-94.66\"/>\n<polygon fill=\"black\" stroke=\"black\" points=\"570.34,-98.1 580.76,-96.2 571.43,-91.18 570.34,-98.1\"/>\n</g>\n<!-- 140477650762672*&#45;&gt;140477650762672 -->\n<g id=\"edge10\" class=\"edge\">\n<title>140477650762672*&#45;&gt;140477650762672</title>\n<path fill=\"none\" stroke=\"black\" d=\"M290.34,-73.5C298.24,-73.5 307.46,-73.5 317.34,-73.5\"/>\n<polygon fill=\"black\" stroke=\"black\" points=\"317.24,-77 327.24,-73.5 317.24,-70 317.24,-77\"/>\n</g>\n</g>\n</svg>\n",
      "text/plain": [
       "<graphviz.graphs.Digraph at 0x7fc38079b310>"
      ]
     },
     "execution_count": 28,
     "metadata": {},
     "output_type": "execute_result"
    }
   ],
   "source": [
    "\n",
    "# inputs x1,x2\n",
    "x1 = Value(2.0, label='x1')\n",
    "x2 = Value(0.0, label='x2')\n",
    "# weights w1,w2\n",
    "w1 = Value(-3.0, label='w1')\n",
    "w2 = Value(1.0, label='w2')\n",
    "# bias of the neuron\n",
    "b = Value(6.8813735870195432, label='b')\n",
    "# x1*w1 + x2*w2 + b\n",
    "x1w1 = x1*w1; x1w1.label = 'x1*w1'\n",
    "x2w2 = x2*w2; x2w2.label = 'x2*w2'\n",
    "x1w1x2w2 = x1w1 + x2w2; x1w1x2w2.label = 'x1*w1 + x2*w2'\n",
    "n = x1w1x2w2 + b; n.label = 'n'\n",
    "# ----\n",
    "e = (2*n).exp()\n",
    "o = (e - 1) / (e + 1)\n",
    "# ----\n",
    "o.label = 'o'\n",
    "o.backward()\n",
    "draw_dot(o)"
   ]
  },
  {
   "cell_type": "code",
   "execution_count": null,
   "metadata": {},
   "outputs": [],
   "source": []
  }
 ],
 "metadata": {
  "kernelspec": {
   "display_name": "Python 3.9.7 64-bit ('venv': venv)",
   "language": "python",
   "name": "python3"
  },
  "language_info": {
   "codemirror_mode": {
    "name": "ipython",
    "version": 3
   },
   "file_extension": ".py",
   "mimetype": "text/x-python",
   "name": "python",
   "nbconvert_exporter": "python",
   "pygments_lexer": "ipython3",
   "version": "3.9.7"
  },
  "orig_nbformat": 4,
  "vscode": {
   "interpreter": {
    "hash": "501953e7eef2e1e39bf2129db7827d93237c84d209aad1cb7f06ab087d8c2fe2"
   }
  }
 },
 "nbformat": 4,
 "nbformat_minor": 2
}
