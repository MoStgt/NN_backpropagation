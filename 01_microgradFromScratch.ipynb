{
 "cells": [
  {
   "cell_type": "code",
   "execution_count": 1,
   "metadata": {},
   "outputs": [],
   "source": [
    "import math\n",
    "import numpy as np\n",
    "import matplotlib.pyplot as plt\n",
    "%matplotlib inline"
   ]
  },
  {
   "cell_type": "code",
   "execution_count": 2,
   "metadata": {},
   "outputs": [],
   "source": [
    "#Define any random function\n",
    "def f(x):\n",
    "  return 3*x**2 - 4*x + 5"
   ]
  },
  {
   "cell_type": "code",
   "execution_count": 3,
   "metadata": {},
   "outputs": [
    {
     "data": {
      "text/plain": [
       "20"
      ]
     },
     "execution_count": 3,
     "metadata": {},
     "output_type": "execute_result"
    }
   ],
   "source": [
    "#function value for specific x\n",
    "f(3)"
   ]
  },
  {
   "cell_type": "code",
   "execution_count": 5,
   "metadata": {},
   "outputs": [
    {
     "data": {
      "text/plain": [
       "[<matplotlib.lines.Line2D at 0x7fd770534e20>]"
      ]
     },
     "execution_count": 5,
     "metadata": {},
     "output_type": "execute_result"
    },
    {
     "data": {
      "image/png": "[encoded data removed]",
      "text/plain": [
       "<Figure size 432x288 with 1 Axes>"
      ]
     },
     "metadata": {
      "needs_background": "light"
     },
     "output_type": "display_data"
    }
   ],
   "source": [
    "#plot function with generated xs\n",
    "xs=np.arange(-5,5,0.25)\n",
    "ys = f(xs)\n",
    "plt.plot(xs, ys)"
   ]
  },
  {
   "cell_type": "code",
   "execution_count": 7,
   "metadata": {},
   "outputs": [
    {
     "data": {
      "text/plain": [
       "14.00300000000243"
      ]
     },
     "execution_count": 7,
     "metadata": {},
     "output_type": "execute_result"
    }
   ],
   "source": [
    "#calculate derivative for specific x\n",
    "h=0.001\n",
    "x=3.0\n",
    "(f(x+h)-f(x))/h"
   ]
  },
  {
   "cell_type": "code",
   "execution_count": 8,
   "metadata": {},
   "outputs": [
    {
     "name": "stdout",
     "output_type": "stream",
     "text": [
      "4.0\n"
     ]
    }
   ],
   "source": [
    "# les get more complex\n",
    "a = 2.0\n",
    "b = -3.0\n",
    "c = 10.0\n",
    "d = a*b + c\n",
    "print(d)"
   ]
  },
  {
   "cell_type": "code",
   "execution_count": 10,
   "metadata": {},
   "outputs": [
    {
     "name": "stdout",
     "output_type": "stream",
     "text": [
      "d1 4.0\n",
      "d2 4.0001\n",
      "slope 0.9999999999976694\n"
     ]
    }
   ],
   "source": [
    "h=0.0001\n",
    "#inputs\n",
    "a=2.0\n",
    "b=-3.0\n",
    "c=10.0\n",
    "\n",
    "d1=a*b+c\n",
    "#chose a,b or c for the variable needed slope\n",
    "c+=h\n",
    "d2=a*b+c\n",
    "\n",
    "print('d1', d1)\n",
    "print('d2', d2)\n",
    "print('slope', (d2 - d1)/h)"
   ]
  },
  {
   "cell_type": "code",
   "execution_count": 134,
   "metadata": {},
   "outputs": [],
   "source": [
    "#define Value class\n",
    "\n",
    "class Value:\n",
    "    def __init__(self, data, _children=(),_op='', label=''):\n",
    "        self.data = data\n",
    "        self.grad=0.0\n",
    "        self._backward=lambda:None\n",
    "        self._prev = set(_children)\n",
    "        self._op = _op\n",
    "        self.label = label\n",
    "        \n",
    "    def __repr__(self):\n",
    "        return f\"Value(data={self.data})\"\n",
    "    \n",
    "    def __add__(self, other):\n",
    "        out = Value(self.data + other.data, (self, other), '+')\n",
    "        \n",
    "        def _backward():\n",
    "            self.grad=1.0 * out.grad\n",
    "            other.grad=1.0 * out.grad\n",
    "        out._backward = _backward\n",
    "        return out\n",
    "    \n",
    "    def __mul__(self, other):\n",
    "        out = Value(self.data * other.data, (self, other),'*')\n",
    "        \n",
    "        def _backward():\n",
    "            self.grad =other.data*out.grad\n",
    "            other.grad=self.data*out.grad\n",
    "        \n",
    "        out._backward=_backward\n",
    "        return out\n",
    "    \n",
    "    def tanh(self):\n",
    "        x = self.data\n",
    "        t = (math.exp(2*x) - 1)/(math.exp(2*x) + 1)\n",
    "        out = Value(t, (self, ), 'tanh')\n",
    "        \n",
    "        def _backward():\n",
    "            self.grad = (1-t**2) * out.grad\n",
    "        out._backward=_backward\n",
    "        return out\n",
    "    \n",
    "    def backward(self):\n",
    "    \n",
    "        topo = []\n",
    "        visited = set()\n",
    "        def build_topo(v):\n",
    "            if v not in visited:\n",
    "                visited.add(v)\n",
    "                for child in v._prev:\n",
    "                    build_topo(child)\n",
    "                topo.append(v)\n",
    "        build_topo(self)\n",
    "        \n",
    "        self.grad = 1.0\n",
    "        #go through topological graph in reverse order, from right to left\n",
    "        for node in reversed(topo):\n",
    "            node._backward()\n",
    "    \n",
    "a = Value(2, label='a')\n",
    "b = Value(-3, label='b')\n",
    "c = Value(10, label='c')\n",
    "e = a*b; e.label= 'e'\n",
    "d = e + c; d.label='d'\n",
    "f = Value(-2.0, label='f')\n",
    "L = d*f\n",
    "L;L.label='L'"
   ]
  },
  {
   "cell_type": "code",
   "execution_count": 122,
   "metadata": {},
   "outputs": [
    {
     "data": {
      "text/plain": [
       "{Value(data=-6), Value(data=10)}"
      ]
     },
     "execution_count": 122,
     "metadata": {},
     "output_type": "execute_result"
    }
   ],
   "source": [
    "#values\n",
    "d._prev"
   ]
  },
  {
   "cell_type": "code",
   "execution_count": 43,
   "metadata": {},
   "outputs": [
    {
     "data": {
      "text/plain": [
       "'+'"
      ]
     },
     "execution_count": 43,
     "metadata": {},
     "output_type": "execute_result"
    }
   ],
   "source": [
    "#operation on values\n",
    "d._op"
   ]
  },
  {
   "cell_type": "code",
   "execution_count": 47,
   "metadata": {},
   "outputs": [],
   "source": [
    "#visualization\n",
    "from graphviz import Digraph\n",
    "\n",
    "def trace(root):\n",
    "  # builds a set of all nodes and edges in a graph\n",
    "  nodes, edges = set(), set()\n",
    "  def build(v):\n",
    "    if v not in nodes:\n",
    "      nodes.add(v)\n",
    "      for child in v._prev:\n",
    "        edges.add((child, v))\n",
    "        build(child)\n",
    "  build(root)\n",
    "  return nodes, edges\n",
    "\n",
    "def draw_dot(root):\n",
    "  dot = Digraph(format='svg', graph_attr={'rankdir': 'LR'}) # LR = left to right\n",
    "  \n",
    "  nodes, edges = trace(root)\n",
    "  for n in nodes:\n",
    "    uid = str(id(n))\n",
    "    # for any value in the graph, create a rectangular ('record') node for it\n",
    "    dot.node(name = uid, label = \"{ %s | data %.4f | grad %.4f }\" % (n.label, n.data, n.grad), shape='record')\n",
    "    if n._op:\n",
    "      # if this value is a result of some operation, create an op node for it\n",
    "      dot.node(name = uid + n._op, label = n._op)\n",
    "      # and connect this node to it\n",
    "      dot.edge(uid + n._op, uid)\n",
    "\n",
    "  for n1, n2 in edges:\n",
    "    # connect n1 to the op node of n2\n",
    "    dot.edge(str(id(n1)), str(id(n2)) + n2._op)\n",
    "\n",
    "  return dot"
   ]
  },
  {
   "cell_type": "code",
   "execution_count": 61,
   "metadata": {},
   "outputs": [
    {
     "data": {
      "image/svg+xml": "<?xml version=\"1.0\" encoding=\"UTF-8\" standalone=\"no\"?>\n<!DOCTYPE svg PUBLIC \"-//W3C//DTD SVG 1.1//EN\"\n \"http://www.w3.org/Graphics/SVG/1.1/DTD/svg11.dtd\">\n<!-- Generated by graphviz version 7.0.0 (20221023.0053)\n -->\n<!-- Pages: 1 -->\n<svg width=\"1157pt\" height=\"128pt\"\n viewBox=\"0.00 0.00 1157.00 128.00\" xmlns=\"http://www.w3.org/2000/svg\" xmlns:xlink=\"http://www.w3.org/1999/xlink\">\n<g id=\"graph0\" class=\"graph\" transform=\"scale(1 1) rotate(0) translate(4 124)\">\n<polygon fill=\"white\" stroke=\"none\" points=\"-4,4 -4,-124 1153,-124 1153,4 -4,4\"/>\n<!-- 140563019994496 -->\n<g id=\"node1\" class=\"node\">\n<title>140563019994496</title>\n<polygon fill=\"none\" stroke=\"black\" points=\"642.5,-82.5 642.5,-118.5 830.5,-118.5 830.5,-82.5 642.5,-82.5\"/>\n<text text-anchor=\"middle\" x=\"653\" y=\"-96.8\" font-family=\"Times,serif\" font-size=\"14.00\">f</text>\n<polyline fill=\"none\" stroke=\"black\" points=\"663.5,-82.5 663.5,-118.5\"/>\n<text text-anchor=\"middle\" x=\"706\" y=\"-96.8\" font-family=\"Times,serif\" font-size=\"14.00\">data &#45;2.0000</text>\n<polyline fill=\"none\" stroke=\"black\" points=\"748.5,-82.5 748.5,-118.5\"/>\n<text text-anchor=\"middle\" x=\"789.5\" y=\"-96.8\" font-family=\"Times,serif\" font-size=\"14.00\">grad 4.0000</text>\n</g>\n<!-- 140563019957344* -->\n<g id=\"node3\" class=\"node\">\n<title>140563019957344*</title>\n<ellipse fill=\"none\" stroke=\"black\" cx=\"894\" cy=\"-72.5\" rx=\"27\" ry=\"18\"/>\n<text text-anchor=\"middle\" x=\"894\" y=\"-68.8\" font-family=\"Times,serif\" font-size=\"14.00\">*</text>\n</g>\n<!-- 140563019994496&#45;&gt;140563019957344* -->\n<g id=\"edge4\" class=\"edge\">\n<title>140563019994496&#45;&gt;140563019957344*</title>\n<path fill=\"none\" stroke=\"black\" d=\"M830.2,-83.81C839.38,-82.16 848.27,-80.56 856.33,-79.1\"/>\n<polygon fill=\"black\" stroke=\"black\" points=\"856.77,-82.58 865.99,-77.36 855.53,-75.69 856.77,-82.58\"/>\n</g>\n<!-- 140563019957344 -->\n<g id=\"node2\" class=\"node\">\n<title>140563019957344</title>\n<polygon fill=\"none\" stroke=\"black\" points=\"957,-54.5 957,-90.5 1149,-90.5 1149,-54.5 957,-54.5\"/>\n<text text-anchor=\"middle\" x=\"969.5\" y=\"-68.8\" font-family=\"Times,serif\" font-size=\"14.00\">L</text>\n<polyline fill=\"none\" stroke=\"black\" points=\"982,-54.5 982,-90.5\"/>\n<text text-anchor=\"middle\" x=\"1024.5\" y=\"-68.8\" font-family=\"Times,serif\" font-size=\"14.00\">data &#45;8.0000</text>\n<polyline fill=\"none\" stroke=\"black\" points=\"1067,-54.5 1067,-90.5\"/>\n<text text-anchor=\"middle\" x=\"1108\" y=\"-68.8\" font-family=\"Times,serif\" font-size=\"14.00\">grad 1.0000</text>\n</g>\n<!-- 140563019957344*&#45;&gt;140563019957344 -->\n<g id=\"edge1\" class=\"edge\">\n<title>140563019957344*&#45;&gt;140563019957344</title>\n<path fill=\"none\" stroke=\"black\" d=\"M921.28,-72.5C928.52,-72.5 936.85,-72.5 945.72,-72.5\"/>\n<polygon fill=\"black\" stroke=\"black\" points=\"945.69,-76 955.69,-72.5 945.69,-69 945.69,-76\"/>\n</g>\n<!-- 140563279539312 -->\n<g id=\"node4\" class=\"node\">\n<title>140563279539312</title>\n<polygon fill=\"none\" stroke=\"black\" points=\"4.5,-83.5 4.5,-119.5 189.5,-119.5 189.5,-83.5 4.5,-83.5\"/>\n<text text-anchor=\"middle\" x=\"16\" y=\"-97.8\" font-family=\"Times,serif\" font-size=\"14.00\">a</text>\n<polyline fill=\"none\" stroke=\"black\" points=\"27.5,-83.5 27.5,-119.5\"/>\n<text text-anchor=\"middle\" x=\"67.5\" y=\"-97.8\" font-family=\"Times,serif\" font-size=\"14.00\">data 2.0000</text>\n<polyline fill=\"none\" stroke=\"black\" points=\"107.5,-83.5 107.5,-119.5\"/>\n<text text-anchor=\"middle\" x=\"148.5\" y=\"-97.8\" font-family=\"Times,serif\" font-size=\"14.00\">grad 6.0000</text>\n</g>\n<!-- 140563279539408* -->\n<g id=\"node6\" class=\"node\">\n<title>140563279539408*</title>\n<ellipse fill=\"none\" stroke=\"black\" cx=\"257\" cy=\"-73.5\" rx=\"27\" ry=\"18\"/>\n<text text-anchor=\"middle\" x=\"257\" y=\"-69.8\" font-family=\"Times,serif\" font-size=\"14.00\">*</text>\n</g>\n<!-- 140563279539312&#45;&gt;140563279539408* -->\n<g id=\"edge8\" class=\"edge\">\n<title>140563279539312&#45;&gt;140563279539408*</title>\n<path fill=\"none\" stroke=\"black\" d=\"M189.45,-85.29C199.89,-83.44 210.03,-81.65 219.12,-80.04\"/>\n<polygon fill=\"black\" stroke=\"black\" points=\"219.68,-83.49 228.91,-78.3 218.46,-76.6 219.68,-83.49\"/>\n</g>\n<!-- 140563279539408 -->\n<g id=\"node5\" class=\"node\">\n<title>140563279539408</title>\n<polygon fill=\"none\" stroke=\"black\" points=\"321,-55.5 321,-91.5 515,-91.5 515,-55.5 321,-55.5\"/>\n<text text-anchor=\"middle\" x=\"332.5\" y=\"-69.8\" font-family=\"Times,serif\" font-size=\"14.00\">e</text>\n<polyline fill=\"none\" stroke=\"black\" points=\"344,-55.5 344,-91.5\"/>\n<text text-anchor=\"middle\" x=\"386.5\" y=\"-69.8\" font-family=\"Times,serif\" font-size=\"14.00\">data &#45;6.0000</text>\n<polyline fill=\"none\" stroke=\"black\" points=\"429,-55.5 429,-91.5\"/>\n<text text-anchor=\"middle\" x=\"472\" y=\"-69.8\" font-family=\"Times,serif\" font-size=\"14.00\">grad &#45;2.0000</text>\n</g>\n<!-- 140563019957632+ -->\n<g id=\"node9\" class=\"node\">\n<title>140563019957632+</title>\n<ellipse fill=\"none\" stroke=\"black\" cx=\"579\" cy=\"-45.5\" rx=\"27\" ry=\"18\"/>\n<text text-anchor=\"middle\" x=\"579\" y=\"-41.8\" font-family=\"Times,serif\" font-size=\"14.00\">+</text>\n</g>\n<!-- 140563279539408&#45;&gt;140563019957632+ -->\n<g id=\"edge9\" class=\"edge\">\n<title>140563279539408&#45;&gt;140563019957632+</title>\n<path fill=\"none\" stroke=\"black\" d=\"M514.7,-56.65C524.07,-55 533.12,-53.4 541.32,-51.96\"/>\n<polygon fill=\"black\" stroke=\"black\" points=\"541.9,-55.41 551.14,-50.23 540.69,-48.52 541.9,-55.41\"/>\n</g>\n<!-- 140563279539408*&#45;&gt;140563279539408 -->\n<g id=\"edge2\" class=\"edge\">\n<title>140563279539408*&#45;&gt;140563279539408</title>\n<path fill=\"none\" stroke=\"black\" d=\"M284.26,-73.5C291.86,-73.5 300.67,-73.5 310.07,-73.5\"/>\n<polygon fill=\"black\" stroke=\"black\" points=\"309.81,-77 319.81,-73.5 309.81,-70 309.81,-77\"/>\n</g>\n<!-- 140563279536384 -->\n<g id=\"node7\" class=\"node\">\n<title>140563279536384</title>\n<polygon fill=\"none\" stroke=\"black\" points=\"0,-28.5 0,-64.5 194,-64.5 194,-28.5 0,-28.5\"/>\n<text text-anchor=\"middle\" x=\"11.5\" y=\"-42.8\" font-family=\"Times,serif\" font-size=\"14.00\">b</text>\n<polyline fill=\"none\" stroke=\"black\" points=\"23,-28.5 23,-64.5\"/>\n<text text-anchor=\"middle\" x=\"65.5\" y=\"-42.8\" font-family=\"Times,serif\" font-size=\"14.00\">data &#45;3.0000</text>\n<polyline fill=\"none\" stroke=\"black\" points=\"108,-28.5 108,-64.5\"/>\n<text text-anchor=\"middle\" x=\"151\" y=\"-42.8\" font-family=\"Times,serif\" font-size=\"14.00\">grad &#45;4.0000</text>\n</g>\n<!-- 140563279536384&#45;&gt;140563279539408* -->\n<g id=\"edge5\" class=\"edge\">\n<title>140563279536384&#45;&gt;140563279539408*</title>\n<path fill=\"none\" stroke=\"black\" d=\"M193.55,-62.83C202.53,-64.36 211.21,-65.85 219.1,-67.19\"/>\n<polygon fill=\"black\" stroke=\"black\" points=\"218.46,-70.63 228.9,-68.87 219.64,-63.73 218.46,-70.63\"/>\n</g>\n<!-- 140563019957632 -->\n<g id=\"node8\" class=\"node\">\n<title>140563019957632</title>\n<polygon fill=\"none\" stroke=\"black\" points=\"642,-27.5 642,-63.5 831,-63.5 831,-27.5 642,-27.5\"/>\n<text text-anchor=\"middle\" x=\"653.5\" y=\"-41.8\" font-family=\"Times,serif\" font-size=\"14.00\">d</text>\n<polyline fill=\"none\" stroke=\"black\" points=\"665,-27.5 665,-63.5\"/>\n<text text-anchor=\"middle\" x=\"705\" y=\"-41.8\" font-family=\"Times,serif\" font-size=\"14.00\">data 4.0000</text>\n<polyline fill=\"none\" stroke=\"black\" points=\"745,-27.5 745,-63.5\"/>\n<text text-anchor=\"middle\" x=\"788\" y=\"-41.8\" font-family=\"Times,serif\" font-size=\"14.00\">grad &#45;2.0000</text>\n</g>\n<!-- 140563019957632&#45;&gt;140563019957344* -->\n<g id=\"edge6\" class=\"edge\">\n<title>140563019957632&#45;&gt;140563019957344*</title>\n<path fill=\"none\" stroke=\"black\" d=\"M830.65,-61.67C839.58,-63.22 848.23,-64.73 856.11,-66.09\"/>\n<polygon fill=\"black\" stroke=\"black\" points=\"855.45,-69.53 865.9,-67.79 856.64,-62.63 855.45,-69.53\"/>\n</g>\n<!-- 140563019957632+&#45;&gt;140563019957632 -->\n<g id=\"edge3\" class=\"edge\">\n<title>140563019957632+&#45;&gt;140563019957632</title>\n<path fill=\"none\" stroke=\"black\" d=\"M606.38,-45.5C613.63,-45.5 621.96,-45.5 630.82,-45.5\"/>\n<polygon fill=\"black\" stroke=\"black\" points=\"630.77,-49 640.77,-45.5 630.77,-42 630.77,-49\"/>\n</g>\n<!-- 140563279538064 -->\n<g id=\"node10\" class=\"node\">\n<title>140563279538064</title>\n<polygon fill=\"none\" stroke=\"black\" points=\"320,-0.5 320,-36.5 516,-36.5 516,-0.5 320,-0.5\"/>\n<text text-anchor=\"middle\" x=\"331.5\" y=\"-14.8\" font-family=\"Times,serif\" font-size=\"14.00\">c</text>\n<polyline fill=\"none\" stroke=\"black\" points=\"343,-0.5 343,-36.5\"/>\n<text text-anchor=\"middle\" x=\"386.5\" y=\"-14.8\" font-family=\"Times,serif\" font-size=\"14.00\">data 10.0000</text>\n<polyline fill=\"none\" stroke=\"black\" points=\"430,-0.5 430,-36.5\"/>\n<text text-anchor=\"middle\" x=\"473\" y=\"-14.8\" font-family=\"Times,serif\" font-size=\"14.00\">grad &#45;2.0000</text>\n</g>\n<!-- 140563279538064&#45;&gt;140563019957632+ -->\n<g id=\"edge7\" class=\"edge\">\n<title>140563279538064&#45;&gt;140563019957632+</title>\n<path fill=\"none\" stroke=\"black\" d=\"M515.62,-34.91C524.6,-36.43 533.27,-37.9 541.15,-39.24\"/>\n<polygon fill=\"black\" stroke=\"black\" points=\"540.51,-42.68 550.95,-40.91 541.68,-35.78 540.51,-42.68\"/>\n</g>\n</g>\n</svg>\n",
      "text/plain": [
       "<graphviz.graphs.Digraph at 0x7fd7705efb50>"
      ]
     },
     "execution_count": 61,
     "metadata": {},
     "output_type": "execute_result"
    }
   ],
   "source": [
    "draw_dot(L)"
   ]
  },
  {
   "cell_type": "code",
   "execution_count": 63,
   "metadata": {},
   "outputs": [
    {
     "name": "stdout",
     "output_type": "stream",
     "text": [
      "-3.9999999999995595\n"
     ]
    }
   ],
   "source": [
    "#example function to calculate the partial derivative\n",
    "def lol():\n",
    "  \n",
    "  h = 0.001\n",
    "  \n",
    "  a = Value(2.0, label='a')\n",
    "  b = Value(-3.0, label='b')\n",
    "  c = Value(10.0, label='c')\n",
    "  e = a*b; e.label = 'e'\n",
    "  d = e + c; d.label = 'd'\n",
    "  f = Value(-2.0, label='f')\n",
    "  L = d * f; L.label = 'L'\n",
    "  L1 = L.data\n",
    "  \n",
    "  a = Value(2.0, label='a')\n",
    "  #a.data+=h\n",
    "  b = Value(-3.0, label='b')\n",
    "  b.data += h\n",
    "  c = Value(10.0, label='c')\n",
    "  #c.data +=h\n",
    "  e = a*b; e.label = 'e'\n",
    "  #e.data+=h\n",
    "  d = e + c; d.label = 'd'\n",
    "  #d.data+=h\n",
    "  f = Value(-2.0, label='f')\n",
    "  L = d * f; L.label = 'L'\n",
    "  L2 = L.data\n",
    "  \n",
    "  print((L2 - L1)/h)\n",
    "  \n",
    "lol()"
   ]
  },
  {
   "cell_type": "code",
   "execution_count": 50,
   "metadata": {},
   "outputs": [],
   "source": [
    "#calculate the partial derivatives of L manually\n",
    "\n",
    "d.grad=-2.0\n",
    "f.grad=4.0\n",
    "L.grad=1.0"
   ]
  },
  {
   "cell_type": "code",
   "execution_count": 55,
   "metadata": {},
   "outputs": [],
   "source": [
    "#dL/dc  = dd/dc\n",
    "#d=c+e -> dd/dc = dd/de = 1.0\n",
    "\n",
    "#we want dL/dc = dL/dd * dd/dc\n",
    "#we know dL/dd, dd/dc\n",
    "\n",
    "c.grad = -2.0\n",
    "e.grad = -2.0"
   ]
  },
  {
   "cell_type": "code",
   "execution_count": 60,
   "metadata": {},
   "outputs": [],
   "source": [
    "#dL/de=-2.0\n",
    "\n",
    "#e=a*b\n",
    "#we want dL/da = dL/de * de/da\n",
    "a.grad=(-2.0*-3.0)\n",
    "b.grad=-2.0*2.0"
   ]
  },
  {
   "cell_type": "code",
   "execution_count": 64,
   "metadata": {},
   "outputs": [
    {
     "name": "stdout",
     "output_type": "stream",
     "text": [
      "-7.286496\n"
     ]
    }
   ],
   "source": [
    "#how one step of optimization can look like\n",
    "#we know how to influence the outcome L by knowing the gradients for each node\n",
    "a.data += 0.01 * a.grad\n",
    "b.data += 0.01 * b.grad\n",
    "c.data += 0.01 * c.grad\n",
    "f.data += 0.01 * f.grad\n",
    "\n",
    "e = a * b\n",
    "d = e + c\n",
    "L = d * f\n",
    "\n",
    "print(L.data)\n"
   ]
  },
  {
   "cell_type": "code",
   "execution_count": 65,
   "metadata": {},
   "outputs": [
    {
     "data": {
      "image/png": "[encoded data removed]",
      "text/plain": [
       "<Figure size 432x288 with 1 Axes>"
      ]
     },
     "metadata": {
      "needs_background": "light"
     },
     "output_type": "display_data"
    }
   ],
   "source": [
    "#example for an activation function\n",
    "plt.plot(np.arange(-5,5,0.2), np.tanh(np.arange(-5,5,0.2))); plt.grid();"
   ]
  },
  {
   "cell_type": "code",
   "execution_count": 135,
   "metadata": {},
   "outputs": [],
   "source": [
    "\n",
    "# inputs x1,x2\n",
    "x1 = Value(2.0, label='x1')\n",
    "x2 = Value(0.0, label='x2')\n",
    "# weights w1,w2\n",
    "w1 = Value(-3.0, label='w1')\n",
    "w2 = Value(1.0, label='w2')\n",
    "# bias of the neuron\n",
    "b = Value(6.8813735870195432, label='b')\n",
    "# x1*w1 + x2*w2 + b\n",
    "x1w1 = x1*w1; x1w1.label = 'x1*w1'\n",
    "x2w2 = x2*w2; x2w2.label = 'x2*w2'\n",
    "x1w1x2w2 = x1w1 + x2w2; x1w1x2w2.label = 'x1*w1 + x2*w2'\n",
    "n = x1w1x2w2 + b; n.label = 'n'\n",
    "o = n.tanh(); o.label = 'o'"
   ]
  },
  {
   "cell_type": "code",
   "execution_count": 138,
   "metadata": {},
   "outputs": [
    {
     "data": {
      "image/svg+xml": "<?xml version=\"1.0\" encoding=\"UTF-8\" standalone=\"no\"?>\n<!DOCTYPE svg PUBLIC \"-//W3C//DTD SVG 1.1//EN\"\n \"http://www.w3.org/Graphics/SVG/1.1/DTD/svg11.dtd\">\n<!-- Generated by graphviz version 7.0.0 (20221023.0053)\n -->\n<!-- Pages: 1 -->\n<svg width=\"1575pt\" height=\"210pt\"\n viewBox=\"0.00 0.00 1575.00 210.00\" xmlns=\"http://www.w3.org/2000/svg\" xmlns:xlink=\"http://www.w3.org/1999/xlink\">\n<g id=\"graph0\" class=\"graph\" transform=\"scale(1 1) rotate(0) translate(4 206)\">\n<polygon fill=\"white\" stroke=\"none\" points=\"-4,4 -4,-206 1571,-206 1571,4 -4,4\"/>\n<!-- 140562758292048 -->\n<g id=\"node1\" class=\"node\">\n<title>140562758292048</title>\n<polygon fill=\"none\" stroke=\"black\" points=\"1382,-109.5 1382,-145.5 1567,-145.5 1567,-109.5 1382,-109.5\"/>\n<text text-anchor=\"middle\" x=\"1393.5\" y=\"-123.8\" font-family=\"Times,serif\" font-size=\"14.00\">o</text>\n<polyline fill=\"none\" stroke=\"black\" points=\"1405,-109.5 1405,-145.5\"/>\n<text text-anchor=\"middle\" x=\"1445\" y=\"-123.8\" font-family=\"Times,serif\" font-size=\"14.00\">data 0.7071</text>\n<polyline fill=\"none\" stroke=\"black\" points=\"1485,-109.5 1485,-145.5\"/>\n<text text-anchor=\"middle\" x=\"1526\" y=\"-123.8\" font-family=\"Times,serif\" font-size=\"14.00\">grad 1.0000</text>\n</g>\n<!-- 140562758292048tanh -->\n<g id=\"node2\" class=\"node\">\n<title>140562758292048tanh</title>\n<ellipse fill=\"none\" stroke=\"black\" cx=\"1319\" cy=\"-127.5\" rx=\"27\" ry=\"18\"/>\n<text text-anchor=\"middle\" x=\"1319\" y=\"-123.8\" font-family=\"Times,serif\" font-size=\"14.00\">tanh</text>\n</g>\n<!-- 140562758292048tanh&#45;&gt;140562758292048 -->\n<g id=\"edge1\" class=\"edge\">\n<title>140562758292048tanh&#45;&gt;140562758292048</title>\n<path fill=\"none\" stroke=\"black\" d=\"M1346.39,-127.5C1353.62,-127.5 1361.92,-127.5 1370.74,-127.5\"/>\n<polygon fill=\"black\" stroke=\"black\" points=\"1370.64,-131 1380.64,-127.5 1370.64,-124 1370.64,-131\"/>\n</g>\n<!-- 140562758418048 -->\n<g id=\"node3\" class=\"node\">\n<title>140562758418048</title>\n<polygon fill=\"none\" stroke=\"black\" points=\"716,-137.5 716,-173.5 901,-173.5 901,-137.5 716,-137.5\"/>\n<text text-anchor=\"middle\" x=\"727.5\" y=\"-151.8\" font-family=\"Times,serif\" font-size=\"14.00\">b</text>\n<polyline fill=\"none\" stroke=\"black\" points=\"739,-137.5 739,-173.5\"/>\n<text text-anchor=\"middle\" x=\"779\" y=\"-151.8\" font-family=\"Times,serif\" font-size=\"14.00\">data 6.8814</text>\n<polyline fill=\"none\" stroke=\"black\" points=\"819,-137.5 819,-173.5\"/>\n<text text-anchor=\"middle\" x=\"860\" y=\"-151.8\" font-family=\"Times,serif\" font-size=\"14.00\">grad 0.5000</text>\n</g>\n<!-- 140562758291760+ -->\n<g id=\"node8\" class=\"node\">\n<title>140562758291760+</title>\n<ellipse fill=\"none\" stroke=\"black\" cx=\"1008\" cy=\"-127.5\" rx=\"27\" ry=\"18\"/>\n<text text-anchor=\"middle\" x=\"1008\" y=\"-123.8\" font-family=\"Times,serif\" font-size=\"14.00\">+</text>\n</g>\n<!-- 140562758418048&#45;&gt;140562758291760+ -->\n<g id=\"edge14\" class=\"edge\">\n<title>140562758418048&#45;&gt;140562758291760+</title>\n<path fill=\"none\" stroke=\"black\" d=\"M900.73,-142.57C925.29,-139.08 950.47,-135.51 970.15,-132.72\"/>\n<polygon fill=\"black\" stroke=\"black\" points=\"970.44,-136.22 979.85,-131.35 969.46,-129.29 970.44,-136.22\"/>\n</g>\n<!-- 140562758294688 -->\n<g id=\"node4\" class=\"node\">\n<title>140562758294688</title>\n<polygon fill=\"none\" stroke=\"black\" points=\"672,-82.5 672,-118.5 945,-118.5 945,-82.5 672,-82.5\"/>\n<text text-anchor=\"middle\" x=\"725\" y=\"-96.8\" font-family=\"Times,serif\" font-size=\"14.00\">x1*w1 + x2*w2</text>\n<polyline fill=\"none\" stroke=\"black\" points=\"778,-82.5 778,-118.5\"/>\n<text text-anchor=\"middle\" x=\"820.5\" y=\"-96.8\" font-family=\"Times,serif\" font-size=\"14.00\">data &#45;6.0000</text>\n<polyline fill=\"none\" stroke=\"black\" points=\"863,-82.5 863,-118.5\"/>\n<text text-anchor=\"middle\" x=\"904\" y=\"-96.8\" font-family=\"Times,serif\" font-size=\"14.00\">grad 0.5000</text>\n</g>\n<!-- 140562758294688&#45;&gt;140562758291760+ -->\n<g id=\"edge6\" class=\"edge\">\n<title>140562758294688&#45;&gt;140562758291760+</title>\n<path fill=\"none\" stroke=\"black\" d=\"M940.96,-118.47C951.31,-119.89 961.12,-121.23 969.85,-122.42\"/>\n<polygon fill=\"black\" stroke=\"black\" points=\"969.17,-125.86 979.56,-123.75 970.12,-118.93 969.17,-125.86\"/>\n</g>\n<!-- 140562758294688+ -->\n<g id=\"node5\" class=\"node\">\n<title>140562758294688+</title>\n<ellipse fill=\"none\" stroke=\"black\" cx=\"609\" cy=\"-100.5\" rx=\"27\" ry=\"18\"/>\n<text text-anchor=\"middle\" x=\"609\" y=\"-96.8\" font-family=\"Times,serif\" font-size=\"14.00\">+</text>\n</g>\n<!-- 140562758294688+&#45;&gt;140562758294688 -->\n<g id=\"edge2\" class=\"edge\">\n<title>140562758294688+&#45;&gt;140562758294688</title>\n<path fill=\"none\" stroke=\"black\" d=\"M636.23,-100.5C643.46,-100.5 651.86,-100.5 660.97,-100.5\"/>\n<polygon fill=\"black\" stroke=\"black\" points=\"660.89,-104 670.89,-100.5 660.89,-97 660.89,-104\"/>\n</g>\n<!-- 140562758266544 -->\n<g id=\"node6\" class=\"node\">\n<title>140562758266544</title>\n<polygon fill=\"none\" stroke=\"black\" points=\"2.5,-55.5 2.5,-91.5 197.5,-91.5 197.5,-55.5 2.5,-55.5\"/>\n<text text-anchor=\"middle\" x=\"19\" y=\"-69.8\" font-family=\"Times,serif\" font-size=\"14.00\">w2</text>\n<polyline fill=\"none\" stroke=\"black\" points=\"35.5,-55.5 35.5,-91.5\"/>\n<text text-anchor=\"middle\" x=\"75.5\" y=\"-69.8\" font-family=\"Times,serif\" font-size=\"14.00\">data 1.0000</text>\n<polyline fill=\"none\" stroke=\"black\" points=\"115.5,-55.5 115.5,-91.5\"/>\n<text text-anchor=\"middle\" x=\"156.5\" y=\"-69.8\" font-family=\"Times,serif\" font-size=\"14.00\">grad 0.0000</text>\n</g>\n<!-- 140562758417904* -->\n<g id=\"node15\" class=\"node\">\n<title>140562758417904*</title>\n<ellipse fill=\"none\" stroke=\"black\" cx=\"263\" cy=\"-73.5\" rx=\"27\" ry=\"18\"/>\n<text text-anchor=\"middle\" x=\"263\" y=\"-69.8\" font-family=\"Times,serif\" font-size=\"14.00\">*</text>\n</g>\n<!-- 140562758266544&#45;&gt;140562758417904* -->\n<g id=\"edge8\" class=\"edge\">\n<title>140562758266544&#45;&gt;140562758417904*</title>\n<path fill=\"none\" stroke=\"black\" d=\"M197.44,-73.5C206.89,-73.5 216.04,-73.5 224.32,-73.5\"/>\n<polygon fill=\"black\" stroke=\"black\" points=\"224.28,-77 234.28,-73.5 224.28,-70 224.28,-77\"/>\n</g>\n<!-- 140562758291760 -->\n<g id=\"node7\" class=\"node\">\n<title>140562758291760</title>\n<polygon fill=\"none\" stroke=\"black\" points=\"1071,-109.5 1071,-145.5 1256,-145.5 1256,-109.5 1071,-109.5\"/>\n<text text-anchor=\"middle\" x=\"1082.5\" y=\"-123.8\" font-family=\"Times,serif\" font-size=\"14.00\">n</text>\n<polyline fill=\"none\" stroke=\"black\" points=\"1094,-109.5 1094,-145.5\"/>\n<text text-anchor=\"middle\" x=\"1134\" y=\"-123.8\" font-family=\"Times,serif\" font-size=\"14.00\">data 0.8814</text>\n<polyline fill=\"none\" stroke=\"black\" points=\"1174,-109.5 1174,-145.5\"/>\n<text text-anchor=\"middle\" x=\"1215\" y=\"-123.8\" font-family=\"Times,serif\" font-size=\"14.00\">grad 0.5000</text>\n</g>\n<!-- 140562758291760&#45;&gt;140562758292048tanh -->\n<g id=\"edge9\" class=\"edge\">\n<title>140562758291760&#45;&gt;140562758292048tanh</title>\n<path fill=\"none\" stroke=\"black\" d=\"M1255.57,-127.5C1264.21,-127.5 1272.6,-127.5 1280.28,-127.5\"/>\n<polygon fill=\"black\" stroke=\"black\" points=\"1280.19,-131 1290.19,-127.5 1280.19,-124 1280.19,-131\"/>\n</g>\n<!-- 140562758291760+&#45;&gt;140562758291760 -->\n<g id=\"edge3\" class=\"edge\">\n<title>140562758291760+&#45;&gt;140562758291760</title>\n<path fill=\"none\" stroke=\"black\" d=\"M1035.39,-127.5C1042.62,-127.5 1050.92,-127.5 1059.74,-127.5\"/>\n<polygon fill=\"black\" stroke=\"black\" points=\"1059.64,-131 1069.64,-127.5 1059.64,-124 1059.64,-131\"/>\n</g>\n<!-- 140562758416176 -->\n<g id=\"node9\" class=\"node\">\n<title>140562758416176</title>\n<polygon fill=\"none\" stroke=\"black\" points=\"326,-110.5 326,-146.5 546,-146.5 546,-110.5 326,-110.5\"/>\n<text text-anchor=\"middle\" x=\"352.5\" y=\"-124.8\" font-family=\"Times,serif\" font-size=\"14.00\">x1*w1</text>\n<polyline fill=\"none\" stroke=\"black\" points=\"379,-110.5 379,-146.5\"/>\n<text text-anchor=\"middle\" x=\"421.5\" y=\"-124.8\" font-family=\"Times,serif\" font-size=\"14.00\">data &#45;6.0000</text>\n<polyline fill=\"none\" stroke=\"black\" points=\"464,-110.5 464,-146.5\"/>\n<text text-anchor=\"middle\" x=\"505\" y=\"-124.8\" font-family=\"Times,serif\" font-size=\"14.00\">grad 0.5000</text>\n</g>\n<!-- 140562758416176&#45;&gt;140562758294688+ -->\n<g id=\"edge13\" class=\"edge\">\n<title>140562758416176&#45;&gt;140562758294688+</title>\n<path fill=\"none\" stroke=\"black\" d=\"M545.78,-110.69C554.79,-109.21 563.43,-107.8 571.25,-106.52\"/>\n<polygon fill=\"black\" stroke=\"black\" points=\"571.64,-110 580.94,-104.93 570.5,-103.09 571.64,-110\"/>\n</g>\n<!-- 140562758416176* -->\n<g id=\"node10\" class=\"node\">\n<title>140562758416176*</title>\n<ellipse fill=\"none\" stroke=\"black\" cx=\"263\" cy=\"-128.5\" rx=\"27\" ry=\"18\"/>\n<text text-anchor=\"middle\" x=\"263\" y=\"-124.8\" font-family=\"Times,serif\" font-size=\"14.00\">*</text>\n</g>\n<!-- 140562758416176*&#45;&gt;140562758416176 -->\n<g id=\"edge4\" class=\"edge\">\n<title>140562758416176*&#45;&gt;140562758416176</title>\n<path fill=\"none\" stroke=\"black\" d=\"M290.34,-128.5C297.6,-128.5 305.98,-128.5 314.97,-128.5\"/>\n<polygon fill=\"black\" stroke=\"black\" points=\"314.69,-132 324.69,-128.5 314.69,-125 314.69,-132\"/>\n</g>\n<!-- 140562758414736 -->\n<g id=\"node11\" class=\"node\">\n<title>140562758414736</title>\n<polygon fill=\"none\" stroke=\"black\" points=\"0,-165.5 0,-201.5 200,-201.5 200,-165.5 0,-165.5\"/>\n<text text-anchor=\"middle\" x=\"16.5\" y=\"-179.8\" font-family=\"Times,serif\" font-size=\"14.00\">w1</text>\n<polyline fill=\"none\" stroke=\"black\" points=\"33,-165.5 33,-201.5\"/>\n<text text-anchor=\"middle\" x=\"75.5\" y=\"-179.8\" font-family=\"Times,serif\" font-size=\"14.00\">data &#45;3.0000</text>\n<polyline fill=\"none\" stroke=\"black\" points=\"118,-165.5 118,-201.5\"/>\n<text text-anchor=\"middle\" x=\"159\" y=\"-179.8\" font-family=\"Times,serif\" font-size=\"14.00\">grad 1.0000</text>\n</g>\n<!-- 140562758414736&#45;&gt;140562758416176* -->\n<g id=\"edge11\" class=\"edge\">\n<title>140562758414736&#45;&gt;140562758416176*</title>\n<path fill=\"none\" stroke=\"black\" d=\"M172.27,-165.52C181.67,-162.72 191.12,-159.7 200,-156.5 210.09,-152.87 220.83,-148.29 230.48,-143.89\"/>\n<polygon fill=\"black\" stroke=\"black\" points=\"231.87,-147.11 239.45,-139.71 228.91,-140.76 231.87,-147.11\"/>\n</g>\n<!-- 140562758264768 -->\n<g id=\"node12\" class=\"node\">\n<title>140562758264768</title>\n<polygon fill=\"none\" stroke=\"black\" points=\"4,-0.5 4,-36.5 196,-36.5 196,-0.5 4,-0.5\"/>\n<text text-anchor=\"middle\" x=\"19\" y=\"-14.8\" font-family=\"Times,serif\" font-size=\"14.00\">x2</text>\n<polyline fill=\"none\" stroke=\"black\" points=\"34,-0.5 34,-36.5\"/>\n<text text-anchor=\"middle\" x=\"74\" y=\"-14.8\" font-family=\"Times,serif\" font-size=\"14.00\">data 0.0000</text>\n<polyline fill=\"none\" stroke=\"black\" points=\"114,-0.5 114,-36.5\"/>\n<text text-anchor=\"middle\" x=\"155\" y=\"-14.8\" font-family=\"Times,serif\" font-size=\"14.00\">grad 0.5000</text>\n</g>\n<!-- 140562758264768&#45;&gt;140562758417904* -->\n<g id=\"edge10\" class=\"edge\">\n<title>140562758264768&#45;&gt;140562758417904*</title>\n<path fill=\"none\" stroke=\"black\" d=\"M169.02,-36.42C179.47,-39.56 190.08,-42.95 200,-46.5 209.96,-50.06 220.59,-54.46 230.18,-58.66\"/>\n<polygon fill=\"black\" stroke=\"black\" points=\"228.54,-61.76 239.1,-62.66 231.4,-55.37 228.54,-61.76\"/>\n</g>\n<!-- 140562758266832 -->\n<g id=\"node13\" class=\"node\">\n<title>140562758266832</title>\n<polygon fill=\"none\" stroke=\"black\" points=\"2,-110.5 2,-146.5 198,-146.5 198,-110.5 2,-110.5\"/>\n<text text-anchor=\"middle\" x=\"17\" y=\"-124.8\" font-family=\"Times,serif\" font-size=\"14.00\">x1</text>\n<polyline fill=\"none\" stroke=\"black\" points=\"32,-110.5 32,-146.5\"/>\n<text text-anchor=\"middle\" x=\"72\" y=\"-124.8\" font-family=\"Times,serif\" font-size=\"14.00\">data 2.0000</text>\n<polyline fill=\"none\" stroke=\"black\" points=\"112,-110.5 112,-146.5\"/>\n<text text-anchor=\"middle\" x=\"155\" y=\"-124.8\" font-family=\"Times,serif\" font-size=\"14.00\">grad &#45;1.5000</text>\n</g>\n<!-- 140562758266832&#45;&gt;140562758416176* -->\n<g id=\"edge7\" class=\"edge\">\n<title>140562758266832&#45;&gt;140562758416176*</title>\n<path fill=\"none\" stroke=\"black\" d=\"M197.91,-128.5C207.21,-128.5 216.21,-128.5 224.38,-128.5\"/>\n<polygon fill=\"black\" stroke=\"black\" points=\"224.18,-132 234.18,-128.5 224.18,-125 224.18,-132\"/>\n</g>\n<!-- 140562758417904 -->\n<g id=\"node14\" class=\"node\">\n<title>140562758417904</title>\n<polygon fill=\"none\" stroke=\"black\" points=\"328.5,-55.5 328.5,-91.5 543.5,-91.5 543.5,-55.5 328.5,-55.5\"/>\n<text text-anchor=\"middle\" x=\"355\" y=\"-69.8\" font-family=\"Times,serif\" font-size=\"14.00\">x2*w2</text>\n<polyline fill=\"none\" stroke=\"black\" points=\"381.5,-55.5 381.5,-91.5\"/>\n<text text-anchor=\"middle\" x=\"421.5\" y=\"-69.8\" font-family=\"Times,serif\" font-size=\"14.00\">data 0.0000</text>\n<polyline fill=\"none\" stroke=\"black\" points=\"461.5,-55.5 461.5,-91.5\"/>\n<text text-anchor=\"middle\" x=\"502.5\" y=\"-69.8\" font-family=\"Times,serif\" font-size=\"14.00\">grad 0.5000</text>\n</g>\n<!-- 140562758417904&#45;&gt;140562758294688+ -->\n<g id=\"edge12\" class=\"edge\">\n<title>140562758417904&#45;&gt;140562758294688+</title>\n<path fill=\"none\" stroke=\"black\" d=\"M543.35,-90.29C553.14,-91.84 562.54,-93.32 570.99,-94.66\"/>\n<polygon fill=\"black\" stroke=\"black\" points=\"570.34,-98.1 580.76,-96.2 571.43,-91.18 570.34,-98.1\"/>\n</g>\n<!-- 140562758417904*&#45;&gt;140562758417904 -->\n<g id=\"edge5\" class=\"edge\">\n<title>140562758417904*&#45;&gt;140562758417904</title>\n<path fill=\"none\" stroke=\"black\" d=\"M290.34,-73.5C298.24,-73.5 307.46,-73.5 317.34,-73.5\"/>\n<polygon fill=\"black\" stroke=\"black\" points=\"317.24,-77 327.24,-73.5 317.24,-70 317.24,-77\"/>\n</g>\n</g>\n</svg>\n",
      "text/plain": [
       "<graphviz.graphs.Digraph at 0x7fd75143e850>"
      ]
     },
     "execution_count": 138,
     "metadata": {},
     "output_type": "execute_result"
    }
   ],
   "source": [
    "draw_dot(o)"
   ]
  },
  {
   "cell_type": "code",
   "execution_count": 75,
   "metadata": {},
   "outputs": [],
   "source": [
    "#calculate the gradients manually\n",
    "o.grad=1.0"
   ]
  },
  {
   "cell_type": "code",
   "execution_count": 76,
   "metadata": {},
   "outputs": [],
   "source": [
    "#o=tanh(n)\n",
    "#do/dn=1-tanh(n)**2 = 1-o**2\n",
    "1-o.data**2\n",
    "n.grad=0.5"
   ]
  },
  {
   "cell_type": "code",
   "execution_count": 82,
   "metadata": {},
   "outputs": [],
   "source": [
    "#because of addition n.grad is distributed to x1w1x2w2 and b\n",
    "x1w1x2w2.grad=0.5\n",
    "b.grad=0.5"
   ]
  },
  {
   "cell_type": "code",
   "execution_count": 84,
   "metadata": {},
   "outputs": [],
   "source": [
    "#same for x1w1 and x2w2 are 0.5\n",
    "x1w1.grad=0.5\n",
    "x2w2.grad=0.5"
   ]
  },
  {
   "cell_type": "code",
   "execution_count": 86,
   "metadata": {},
   "outputs": [],
   "source": [
    "x2.grad=w2.data*x2w2.grad\n",
    "w2.grad=x2.data*x2w2.grad"
   ]
  },
  {
   "cell_type": "code",
   "execution_count": 88,
   "metadata": {},
   "outputs": [],
   "source": [
    "x1.grad = w1.data*x1w1.grad\n",
    "w1.grad=x1.data*x1w1.grad"
   ]
  },
  {
   "cell_type": "code",
   "execution_count": 103,
   "metadata": {},
   "outputs": [],
   "source": [
    "#calculate gradients via implemented backward function in class Value\n",
    "o.grad=1.0\n",
    "o._backward()"
   ]
  },
  {
   "cell_type": "code",
   "execution_count": 104,
   "metadata": {},
   "outputs": [],
   "source": [
    "n._backward()"
   ]
  },
  {
   "cell_type": "code",
   "execution_count": 105,
   "metadata": {},
   "outputs": [],
   "source": [
    "b._backward()"
   ]
  },
  {
   "cell_type": "code",
   "execution_count": 106,
   "metadata": {},
   "outputs": [],
   "source": [
    "x1w1x2w2._backward()"
   ]
  },
  {
   "cell_type": "code",
   "execution_count": 107,
   "metadata": {},
   "outputs": [],
   "source": [
    "x2w2._backward()"
   ]
  },
  {
   "cell_type": "code",
   "execution_count": 109,
   "metadata": {},
   "outputs": [],
   "source": [
    "x1w1._backward()"
   ]
  },
  {
   "cell_type": "code",
   "execution_count": 111,
   "metadata": {},
   "outputs": [
    {
     "data": {
      "text/plain": [
       "[Value(data=2.0),\n",
       " Value(data=-3.0),\n",
       " Value(data=-6.0),\n",
       " Value(data=1.0),\n",
       " Value(data=0.0),\n",
       " Value(data=0.0),\n",
       " Value(data=-6.0),\n",
       " Value(data=6.881373587019543),\n",
       " Value(data=0.8813735870195432),\n",
       " Value(data=0.7071067811865476)]"
      ]
     },
     "execution_count": 111,
     "metadata": {},
     "output_type": "execute_result"
    }
   ],
   "source": [
    "#build a topological sort, all nodes from left to right\n",
    "topo = []\n",
    "visited = set()\n",
    "def build_topo(v):\n",
    "  if v not in visited:\n",
    "    visited.add(v)\n",
    "    for child in v._prev:\n",
    "      build_topo(child)\n",
    "    topo.append(v)\n",
    "build_topo(o)\n",
    "topo"
   ]
  },
  {
   "cell_type": "code",
   "execution_count": 114,
   "metadata": {},
   "outputs": [],
   "source": [
    "#instead of calling backward function for each node we will use a topological graph instead\n",
    "o.grad=1.0\n",
    "topo = []\n",
    "visited = set()\n",
    "def build_topo(v):\n",
    "  if v not in visited:\n",
    "    visited.add(v)\n",
    "    for child in v._prev:\n",
    "      build_topo(child)\n",
    "    topo.append(v)\n",
    "build_topo(o)\n",
    "topo\n",
    "\n",
    "#go through topological graph in reverse order, from right to left\n",
    "for node in reversed(topo):\n",
    "    node._backward()"
   ]
  },
  {
   "cell_type": "code",
   "execution_count": 137,
   "metadata": {},
   "outputs": [],
   "source": [
    "#use backward function for all nodes implemented in class Value\n",
    "o.backward()"
   ]
  },
  {
   "cell_type": "code",
   "execution_count": null,
   "metadata": {},
   "outputs": [],
   "source": []
  }
 ],
 "metadata": {
  "kernelspec": {
   "display_name": "Python 3.9.7 64-bit ('venv': venv)",
   "language": "python",
   "name": "python3"
  },
  "language_info": {
   "codemirror_mode": {
    "name": "ipython",
    "version": 3
   },
   "file_extension": ".py",
   "mimetype": "text/x-python",
   "name": "python",
   "nbconvert_exporter": "python",
   "pygments_lexer": "ipython3",
   "version": "3.9.7"
  },
  "orig_nbformat": 4,
  "vscode": {
   "interpreter": {
    "hash": "501953e7eef2e1e39bf2129db7827d93237c84d209aad1cb7f06ab087d8c2fe2"
   }
  }
 },
 "nbformat": 4,
 "nbformat_minor": 2
}
